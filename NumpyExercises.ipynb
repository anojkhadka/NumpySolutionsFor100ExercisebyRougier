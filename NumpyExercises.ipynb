{
 "cells": [
  {
   "cell_type": "markdown",
   "metadata": {},
   "source": [
    "### 1. Import the numpy package under the name np."
   ]
  },
  {
   "cell_type": "code",
   "execution_count": 1,
   "metadata": {},
   "outputs": [],
   "source": [
    "import numpy as np"
   ]
  },
  {
   "cell_type": "markdown",
   "metadata": {},
   "source": [
    "### 2. Print the numpy version and the configuration.\n"
   ]
  },
  {
   "cell_type": "code",
   "execution_count": 13,
   "metadata": {},
   "outputs": [
    {
     "name": "stdout",
     "output_type": "stream",
     "text": [
      "mkl_info:\n",
      "    libraries = ['mkl_rt', 'pthread']\n",
      "    library_dirs = ['/home/anoj/anaconda3/lib']\n",
      "    define_macros = [('SCIPY_MKL_H', None), ('HAVE_CBLAS', None)]\n",
      "    include_dirs = ['/home/anoj/anaconda3/include']\n",
      "blas_mkl_info:\n",
      "    libraries = ['mkl_rt', 'pthread']\n",
      "    library_dirs = ['/home/anoj/anaconda3/lib']\n",
      "    define_macros = [('SCIPY_MKL_H', None), ('HAVE_CBLAS', None)]\n",
      "    include_dirs = ['/home/anoj/anaconda3/include']\n",
      "blas_opt_info:\n",
      "    libraries = ['mkl_rt', 'pthread']\n",
      "    library_dirs = ['/home/anoj/anaconda3/lib']\n",
      "    define_macros = [('SCIPY_MKL_H', None), ('HAVE_CBLAS', None)]\n",
      "    include_dirs = ['/home/anoj/anaconda3/include']\n",
      "lapack_mkl_info:\n",
      "    libraries = ['mkl_rt', 'pthread']\n",
      "    library_dirs = ['/home/anoj/anaconda3/lib']\n",
      "    define_macros = [('SCIPY_MKL_H', None), ('HAVE_CBLAS', None)]\n",
      "    include_dirs = ['/home/anoj/anaconda3/include']\n",
      "lapack_opt_info:\n",
      "    libraries = ['mkl_rt', 'pthread']\n",
      "    library_dirs = ['/home/anoj/anaconda3/lib']\n",
      "    define_macros = [('SCIPY_MKL_H', None), ('HAVE_CBLAS', None)]\n",
      "    include_dirs = ['/home/anoj/anaconda3/include']\n",
      "None\n"
     ]
    }
   ],
   "source": [
    "print(np.show_config())\n",
    "print(np.version.full_version)"
   ]
  },
  {
   "cell_type": "markdown",
   "metadata": {},
   "source": [
    "###  3. Create a null vector of size 10.\n",
    "\n",
    "Note: A vector is an array with a single dimension (there’s no difference between row and column vectors), while a matrix refers to an array with two dimensions. For 3-D or higher dimensional arrays, the term tensor is also commonly used. "
   ]
  },
  {
   "cell_type": "code",
   "execution_count": 2,
   "metadata": {},
   "outputs": [
    {
     "name": "stdout",
     "output_type": "stream",
     "text": [
      "[0. 0. 0. 0. 0. 0. 0. 0. 0. 0.]\n"
     ]
    }
   ],
   "source": [
    "null_vector = np.zeros(10)\n",
    "print(null_vector)"
   ]
  },
  {
   "cell_type": "markdown",
   "metadata": {},
   "source": [
    "### 4. How to find the memory size of any array"
   ]
  },
  {
   "cell_type": "markdown",
   "metadata": {},
   "source": [
    "There are two ways we can find memory size of an array. One is direct method by using 'nbytes' function. Another one is by finding multiplying the size of an array with memory consumed by each individual element.  To find size of an array  we use 'size' function and memory consumed by each individual array we use 'itemsize' function. Lets us try to find the memory of above null_vector array."
   ]
  },
  {
   "cell_type": "code",
   "execution_count": 10,
   "metadata": {},
   "outputs": [
    {
     "name": "stdout",
     "output_type": "stream",
     "text": [
      "80\n",
      "80\n"
     ]
    }
   ],
   "source": [
    "# Method I\n",
    "\n",
    "print(null_vector.nbytes)                       # Finds the total memory size of an array.\n",
    " \n",
    "\n",
    "# Method II\n",
    "\n",
    "array_size = null_vector.size                   # Finds the size of an array.\n",
    "\n",
    "unit_memory_size = null_vector.itemsize         # Finds the memory size of each individual unit.\n",
    "\n",
    "print(array_size*unit_memory_size)\n"
   ]
  },
  {
   "cell_type": "markdown",
   "metadata": {},
   "source": [
    "### 5. How to get the documentation of the numpy add function from the command line?"
   ]
  },
  {
   "cell_type": "markdown",
   "metadata": {},
   "source": [
    "There is a 'info' function in numpy that prints the documentation for any numpy function as shown below."
   ]
  },
  {
   "cell_type": "code",
   "execution_count": 12,
   "metadata": {},
   "outputs": [
    {
     "name": "stdout",
     "output_type": "stream",
     "text": [
      "add(x1, x2, /, out=None, *, where=True, casting='same_kind', order='K', dtype=None, subok=True[, signature, extobj])\n",
      "\n",
      "Add arguments element-wise.\n",
      "\n",
      "Parameters\n",
      "----------\n",
      "x1, x2 : array_like\n",
      "    The arrays to be added.  If ``x1.shape != x2.shape``, they must be\n",
      "    broadcastable to a common shape (which may be the shape of one or\n",
      "    the other).\n",
      "out : ndarray, None, or tuple of ndarray and None, optional\n",
      "    A location into which the result is stored. If provided, it must have\n",
      "    a shape that the inputs broadcast to. If not provided or `None`,\n",
      "    a freshly-allocated array is returned. A tuple (possible only as a\n",
      "    keyword argument) must have length equal to the number of outputs.\n",
      "where : array_like, optional\n",
      "    Values of True indicate to calculate the ufunc at that position, values\n",
      "    of False indicate to leave the value in the output alone.\n",
      "**kwargs\n",
      "    For other keyword-only arguments, see the\n",
      "    :ref:`ufunc docs <ufuncs.kwargs>`.\n",
      "\n",
      "Returns\n",
      "-------\n",
      "add : ndarray or scalar\n",
      "    The sum of `x1` and `x2`, element-wise.\n",
      "    This is a scalar if both `x1` and `x2` are scalars.\n",
      "\n",
      "Notes\n",
      "-----\n",
      "Equivalent to `x1` + `x2` in terms of array broadcasting.\n",
      "\n",
      "Examples\n",
      "--------\n",
      ">>> np.add(1.0, 4.0)\n",
      "5.0\n",
      ">>> x1 = np.arange(9.0).reshape((3, 3))\n",
      ">>> x2 = np.arange(3.0)\n",
      ">>> np.add(x1, x2)\n",
      "array([[  0.,   2.,   4.],\n",
      "       [  3.,   5.,   7.],\n",
      "       [  6.,   8.,  10.]])\n"
     ]
    }
   ],
   "source": [
    "np.info(np.add)               #  numpy 'info'  function printing the documentation of numpy 'add' function."
   ]
  },
  {
   "cell_type": "markdown",
   "metadata": {},
   "source": [
    "### 6. Create a null vector of size 10 but the fifth value which is 1"
   ]
  },
  {
   "cell_type": "code",
   "execution_count": 14,
   "metadata": {},
   "outputs": [
    {
     "name": "stdout",
     "output_type": "stream",
     "text": [
      "[0. 0. 0. 0. 1. 0. 0. 0. 0. 0.]\n"
     ]
    }
   ],
   "source": [
    "null_vector = np.zeros(10)         # Null vector of size 10.\n",
    "\n",
    "null_vector[4] = 1                 # Replacing fifth value by value 1.\n",
    "\n",
    "print(null_vector)"
   ]
  },
  {
   "cell_type": "markdown",
   "metadata": {},
   "source": [
    "### 7. Create a vector with values ranging from 10 to 49"
   ]
  },
  {
   "cell_type": "code",
   "execution_count": 17,
   "metadata": {},
   "outputs": [
    {
     "data": {
      "text/plain": [
       "array([10, 11, 12, 13, 14, 15, 16, 17, 18, 19, 20, 21, 22, 23, 24, 25, 26,\n",
       "       27, 28, 29, 30, 31, 32, 33, 34, 35, 36, 37, 38, 39, 40, 41, 42, 43,\n",
       "       44, 45, 46, 47, 48])"
      ]
     },
     "execution_count": 17,
     "metadata": {},
     "output_type": "execute_result"
    }
   ],
   "source": [
    "X = np.arange(10, 49)           # 'arange' is used to create an array with values in a given range.\n",
    "\n",
    "X"
   ]
  },
  {
   "cell_type": "markdown",
   "metadata": {},
   "source": [
    "### 8. Reverse a vector (first element becomes last)"
   ]
  },
  {
   "cell_type": "code",
   "execution_count": 49,
   "metadata": {},
   "outputs": [
    {
     "data": {
      "text/plain": [
       "array([48, 47, 46, 45, 44, 43, 42, 41, 40, 39, 38, 37, 36, 35, 34, 33, 32,\n",
       "       31, 30, 29, 28, 27, 26, 25, 24, 23, 22, 21, 20, 19, 18, 17, 16, 15,\n",
       "       14, 13, 12, 11, 10])"
      ]
     },
     "execution_count": 49,
     "metadata": {},
     "output_type": "execute_result"
    }
   ],
   "source": [
    "X[::-1]          # Method 1: Using indexing method to reverse an array\n",
    "\n",
    "np.flip(X)       # Method 2: Using numpy 'flip' function to reverse an array"
   ]
  },
  {
   "cell_type": "markdown",
   "metadata": {},
   "source": [
    "### 9. Create a 3x3 matrix with values ranging from 0 to 8."
   ]
  },
  {
   "cell_type": "code",
   "execution_count": 80,
   "metadata": {},
   "outputs": [
    {
     "name": "stdout",
     "output_type": "stream",
     "text": [
      "[[0 1 2]\n",
      " [3 4 5]\n",
      " [6 7 8]]\n",
      "\n",
      "(3, 3)\n"
     ]
    }
   ],
   "source": [
    "matrix = np.arange(0,9)                         # \n",
    "three_matrix = np.resize(matrix, (3,3))\n",
    "\n",
    "print(three_matrix)\n",
    "print()\n",
    "print(three_matrix.shape)"
   ]
  },
  {
   "cell_type": "markdown",
   "metadata": {},
   "source": [
    "### 10. Find indices of non-zero elements from [1,2,0,0,4,0]"
   ]
  },
  {
   "cell_type": "code",
   "execution_count": 5,
   "metadata": {},
   "outputs": [
    {
     "data": {
      "text/plain": [
       "(array([0, 1, 4]),)"
      ]
     },
     "execution_count": 5,
     "metadata": {},
     "output_type": "execute_result"
    }
   ],
   "source": [
    "np.nonzero([1,2,0,0,4,0])         # 'nonzero' numpy function returns the indices of elements that are non-zero."
   ]
  },
  {
   "cell_type": "markdown",
   "metadata": {},
   "source": [
    "### 11. Create a 3x3 identity matrix."
   ]
  },
  {
   "cell_type": "code",
   "execution_count": 4,
   "metadata": {},
   "outputs": [
    {
     "data": {
      "text/plain": [
       "array([[1., 0., 0.],\n",
       "       [0., 1., 0.],\n",
       "       [0., 0., 1.]])"
      ]
     },
     "execution_count": 4,
     "metadata": {},
     "output_type": "execute_result"
    }
   ],
   "source": [
    "three_identity = np.identity(3)\n",
    "three_identity"
   ]
  },
  {
   "cell_type": "markdown",
   "metadata": {},
   "source": [
    "### 12. Create a 3x3x3 array with random values."
   ]
  },
  {
   "cell_type": "code",
   "execution_count": 10,
   "metadata": {},
   "outputs": [
    {
     "name": "stdout",
     "output_type": "stream",
     "text": [
      "[[[0.2812604  0.28745242 0.08371823]\n",
      "  [0.9496969  0.30896213 0.09163852]\n",
      "  [0.87580719 0.17443467 0.43550815]]\n",
      "\n",
      " [[0.5909506  0.58092618 0.61842917]\n",
      "  [0.87741809 0.73763887 0.38678639]\n",
      "  [0.59411909 0.6974729  0.18930591]]\n",
      "\n",
      " [[0.44449727 0.34305043 0.56689231]\n",
      "  [0.71916837 0.4741575  0.59630422]\n",
      "  [0.90120362 0.09927224 0.50142571]]]\n",
      "\n",
      "(3, 3, 3)\n"
     ]
    }
   ],
   "source": [
    "random_array = np.random.rand(3,3,3)\n",
    "\n",
    "print(random_array)\n",
    "print()\n",
    "print(random_array.shape)           # Checking the shape of the random_array."
   ]
  },
  {
   "cell_type": "markdown",
   "metadata": {},
   "source": [
    "### 13. Create a 10x10 array with random values and find the minimum and maximum values."
   ]
  },
  {
   "cell_type": "code",
   "execution_count": 2,
   "metadata": {},
   "outputs": [
    {
     "name": "stdout",
     "output_type": "stream",
     "text": [
      "[[0.95430518 0.19344199 0.08312556 0.79353104 0.99242964 0.6538587\n",
      "  0.13743626 0.44306261 0.52851098 0.35220255]\n",
      " [0.64457733 0.09018779 0.60352076 0.44713826 0.8511658  0.95901888\n",
      "  0.95359339 0.89204496 0.89349501 0.83911331]\n",
      " [0.29797021 0.02229476 0.84573804 0.27372797 0.44543301 0.24073298\n",
      "  0.51770259 0.43128245 0.45373279 0.90444775]\n",
      " [0.2603907  0.22311754 0.03028632 0.21069951 0.80962672 0.81037151\n",
      "  0.61588545 0.4527473  0.49253075 0.00617544]\n",
      " [0.4229519  0.54142843 0.65977912 0.85855603 0.81259641 0.59322875\n",
      "  0.02583466 0.32222042 0.2287542  0.12615421]\n",
      " [0.91156619 0.47838905 0.48978484 0.92836022 0.0258248  0.04413118\n",
      "  0.07305566 0.2752228  0.01140676 0.29892341]\n",
      " [0.28383329 0.38017286 0.73912503 0.26994756 0.7825451  0.00295173\n",
      "  0.53099771 0.37406055 0.13356047 0.73525755]\n",
      " [0.58692764 0.69030052 0.13272316 0.76576737 0.53328191 0.9567087\n",
      "  0.78066841 0.72069189 0.8718469  0.1481126 ]\n",
      " [0.61001662 0.94711893 0.37123557 0.73640625 0.98013422 0.1370206\n",
      "  0.93262008 0.44076642 0.86916854 0.74354984]\n",
      " [0.95107997 0.20387716 0.73234188 0.20513371 0.2305558  0.15058328\n",
      "  0.53916637 0.76132399 0.40151629 0.76883192]]\n",
      "\n",
      "Maximum value:  0.9924296374313314\n",
      "Minimum value:  0.0029517296252549174\n"
     ]
    }
   ],
   "source": [
    "random_ten_array = np.random.rand(10, 10)\n",
    "max_value = np.max(random_ten_array)\n",
    "min_value = np.min(random_ten_array)\n",
    "\n",
    "print(random_ten_array)\n",
    "print()\n",
    "print('Maximum value: ', max_value)\n",
    "print('Minimum value: ', min_value)"
   ]
  },
  {
   "cell_type": "markdown",
   "metadata": {},
   "source": [
    "### 14. Create a random vector of size 30 and find the mean value."
   ]
  },
  {
   "cell_type": "code",
   "execution_count": 3,
   "metadata": {},
   "outputs": [
    {
     "name": "stdout",
     "output_type": "stream",
     "text": [
      "[[22 93 35 56 63 39 30 33 35 96 10  2 20 39 69 60 26 95 76 22 14 14 81 51\n",
      "  66 78 55 98 74 70]]\n",
      "\n",
      "Mean value: 50.733333333333334\n",
      "Size of random_vec is: 30\n"
     ]
    }
   ],
   "source": [
    "random_vec = np.random.randint(1, 100, (1, 30))\n",
    "mean_value = np.mean(random_vec)\n",
    "print(random_vec)\n",
    "print()\n",
    "print('Mean value:', mean_value)\n",
    "print('Size of random_vec is:', random_vec.size)"
   ]
  },
  {
   "cell_type": "markdown",
   "metadata": {},
   "source": [
    "### 15. Create a 2d array with 1 on the border and 0 inside"
   ]
  },
  {
   "cell_type": "code",
   "execution_count": 30,
   "metadata": {},
   "outputs": [
    {
     "data": {
      "text/plain": [
       "array([[1, 1, 1, 1, 1],\n",
       "       [1, 0, 0, 0, 1],\n",
       "       [1, 0, 0, 0, 1],\n",
       "       [1, 0, 0, 0, 1],\n",
       "       [1, 1, 1, 1, 1]])"
      ]
     },
     "execution_count": 30,
     "metadata": {},
     "output_type": "execute_result"
    }
   ],
   "source": [
    "two_dim_array = np.ones((5,5), dtype = 'int')\n",
    "two_dim_array[1:4,1:4] = 0\n",
    "two_dim_array"
   ]
  },
  {
   "cell_type": "markdown",
   "metadata": {},
   "source": [
    "### 16. How to add a border (filled with 0's) around an existing array?"
   ]
  },
  {
   "cell_type": "code",
   "execution_count": 49,
   "metadata": {},
   "outputs": [
    {
     "data": {
      "text/plain": [
       "array([[ 0,  0,  0,  0,  0,  0,  0,  0],\n",
       "       [ 0, 43, 88, 55, 99, 19, 43,  0],\n",
       "       [ 0, 24, 45, 97, 27, 71, 10,  0],\n",
       "       [ 0, 47, 74, 16, 57, 91, 93,  0],\n",
       "       [ 0, 14, 54, 16, 29, 76, 47,  0],\n",
       "       [ 0, 39, 80, 22, 48, 19, 13,  0],\n",
       "       [ 0, 60, 23, 93, 56, 23, 15,  0],\n",
       "       [ 0,  0,  0,  0,  0,  0,  0,  0]])"
      ]
     },
     "execution_count": 49,
     "metadata": {},
     "output_type": "execute_result"
    }
   ],
   "source": [
    "X = np.random.randint(10, 100, (6,6))\n",
    "np.pad(X, 1, 'constant', constant_values = 0)   # 'pad' function is used to create a frame/boundary "
   ]
  },
  {
   "cell_type": "markdown",
   "metadata": {},
   "source": [
    "### 17. What is the result of the following expression? (★☆☆)\n",
    "\n",
    "<br> 0 * np.nan\n",
    "<br> np.nan == np.nan\n",
    "<br> np.inf > np.nan\n",
    "<br> np.nan - np.nan\n",
    "<br> np.nan in set([np.nan])\n",
    "<br> 0.3 == 3 * 0.1"
   ]
  },
  {
   "cell_type": "code",
   "execution_count": null,
   "metadata": {},
   "outputs": [],
   "source": []
  },
  {
   "cell_type": "markdown",
   "metadata": {},
   "source": [
    "### 18. Create a 5x5 matrix with values 1,2,3,4 just below the diagonal. "
   ]
  },
  {
   "cell_type": "markdown",
   "metadata": {},
   "source": [
    "A very simple answer to this question can be achieved by using 'np.diag()' function. "
   ]
  },
  {
   "cell_type": "code",
   "execution_count": 41,
   "metadata": {},
   "outputs": [
    {
     "name": "stdout",
     "output_type": "stream",
     "text": [
      "[[0 0 0 0 0]\n",
      " [1 0 0 0 0]\n",
      " [0 2 0 0 0]\n",
      " [0 0 3 0 0]\n",
      " [0 0 0 4 0]]\n"
     ]
    }
   ],
   "source": [
    "Z = np.diag(np.arange(1,5),k=-1)\n",
    "print(Z)"
   ]
  },
  {
   "cell_type": "markdown",
   "metadata": {},
   "source": [
    "Another approach but a bit more complicated approach is shown below."
   ]
  },
  {
   "cell_type": "code",
   "execution_count": 34,
   "metadata": {},
   "outputs": [
    {
     "name": "stdout",
     "output_type": "stream",
     "text": [
      "Example 5*5 matrix is:\n",
      "\n",
      " [[10 11 12 13 14]\n",
      " [15 16 17 18 19]\n",
      " [20 21 22 23 24]\n",
      " [25 26 27 28 29]\n",
      " [30 31 32 33 34]]\n",
      "\n",
      "\n",
      " Changed matrix with 1,2,3,4 just below the diagonal is: \n",
      "\n",
      " [[10 11 12 13 14]\n",
      " [ 1 16 17 18 19]\n",
      " [20  2 22 23 24]\n",
      " [25 26  3 28 29]\n",
      " [30 31 32  4 34]]\n"
     ]
    }
   ],
   "source": [
    "five_matrix = np.arange(10, 35).reshape(5,5)            # Creating a 5 by 5 matrix\n",
    "print('Example 5*5 matrix is:\\n\\n', five_matrix)\n",
    "\n",
    "ex_array = [1,2,3,4]                                    # Elements that we want just below the diagonal\n",
    "\n",
    "\n",
    "\n",
    "# Using this for loop we will first pick the indices of element in the position just below the diagonal and \n",
    "# replace each with 1,2,3 and 4 successively in the original matrix.\n",
    "\n",
    "\n",
    "for k in range(0,4):                                  \n",
    "    x, y  = np.where(five_matrix == list(five_matrix.diagonal(-1))[k])  # extracts indices of the elements\n",
    "    five_matrix[(x,y)] = ex_array[k] \n",
    "\n",
    "print('\\n\\n Changed matrix with 1,2,3,4 just below the diagonal is: \\n\\n',five_matrix)"
   ]
  },
  {
   "cell_type": "markdown",
   "metadata": {},
   "source": [
    "### 19. Create a 8x8 matrix and fill it with a checkerboard pattern."
   ]
  },
  {
   "cell_type": "markdown",
   "metadata": {},
   "source": [
    "My solution. First create a 2 by 2 identity matrix and expand it to form a 8 by 8 matrix which will resemble a\n",
    "chckerboard pattern."
   ]
  },
  {
   "cell_type": "code",
   "execution_count": 50,
   "metadata": {},
   "outputs": [
    {
     "name": "stdout",
     "output_type": "stream",
     "text": [
      "[[1 0 1 0 1 0 1 0]\n",
      " [0 1 0 1 0 1 0 1]\n",
      " [1 0 1 0 1 0 1 0]\n",
      " [0 1 0 1 0 1 0 1]\n",
      " [1 0 1 0 1 0 1 0]\n",
      " [0 1 0 1 0 1 0 1]\n",
      " [1 0 1 0 1 0 1 0]\n",
      " [0 1 0 1 0 1 0 1]]\n"
     ]
    }
   ],
   "source": [
    "two_identity = np.identity(2 , dtype = int)\n",
    "base_one = np.hstack((two_identity, two_identity, two_identity, two_identity))  # horizontal stacking\n",
    "checkerboard = np.vstack((base_one, base_one, base_one, base_one))              # vertical stacking\n",
    "print(checkerboard)"
   ]
  },
  {
   "cell_type": "markdown",
   "metadata": {},
   "source": [
    "This solution is given:\n",
    "\n",
    "https://github.com/rougier/numpy-100/blob/master/100_Numpy_exercises_with_solutions.md"
   ]
  },
  {
   "cell_type": "code",
   "execution_count": 49,
   "metadata": {},
   "outputs": [
    {
     "name": "stdout",
     "output_type": "stream",
     "text": [
      "[[0 1 0 1 0 1 0 1]\n",
      " [1 0 1 0 1 0 1 0]\n",
      " [0 1 0 1 0 1 0 1]\n",
      " [1 0 1 0 1 0 1 0]\n",
      " [0 1 0 1 0 1 0 1]\n",
      " [1 0 1 0 1 0 1 0]\n",
      " [0 1 0 1 0 1 0 1]\n",
      " [1 0 1 0 1 0 1 0]]\n"
     ]
    }
   ],
   "source": [
    "Z = np.zeros((8,8),dtype=int)\n",
    "Z[1::2,::2] = 1\n",
    "Z[::2,1::2] = 1\n",
    "print(Z)"
   ]
  },
  {
   "cell_type": "markdown",
   "metadata": {},
   "source": [
    "### 20. Consider a (6,7,8) shape array, what is the index (x,y,z) of the 100th element?"
   ]
  },
  {
   "cell_type": "markdown",
   "metadata": {},
   "source": [
    "#### Easy way is to use \"np.unravel_index()\" numpy function. Here we specify the position and the shape of an array as an argument. 99 specifies the 100th position as count starts from 0 in python. (6,7,8) is the shape of an array given. "
   ]
  },
  {
   "cell_type": "code",
   "execution_count": 51,
   "metadata": {},
   "outputs": [
    {
     "data": {
      "text/plain": [
       "(1, 5, 3)"
      ]
     },
     "execution_count": 51,
     "metadata": {},
     "output_type": "execute_result"
    }
   ],
   "source": [
    "np.unravel_index(99, (6,7,8))"
   ]
  },
  {
   "cell_type": "markdown",
   "metadata": {},
   "source": [
    "#### Same result can be acheived by using a logic which uses \"np.ravel()\" function. This is just like walking the same path above in a different way and arriving at same destination."
   ]
  },
  {
   "cell_type": "code",
   "execution_count": 3,
   "metadata": {},
   "outputs": [
    {
     "name": "stdout",
     "output_type": "stream",
     "text": [
      "199\n"
     ]
    },
    {
     "data": {
      "text/plain": [
       "(array([1]), array([5]), array([3]))"
      ]
     },
     "execution_count": 3,
     "metadata": {},
     "output_type": "execute_result"
    }
   ],
   "source": [
    "# First create an array of unique elements with shape '6,7,8'. Hint: An array of shape '(6,7,8)' will contain \n",
    "#  6*7*8 = 336  elements. \n",
    "\n",
    "example = np.arange(100, 436).reshape(6,7,8)    \n",
    "\n",
    "# Identifying the 100th element. Hint: To identify 100th element we first flatten/ravel the array and pick \n",
    "# element of index 99 which gives 100th element.\n",
    "\n",
    "print(np.ravel(example)[99])                    \n",
    "\n",
    "# Using \"np.where\" function to get index of the 100th element.\n",
    "\n",
    "np.where(example == 199)                     "
   ]
  },
  {
   "cell_type": "markdown",
   "metadata": {},
   "source": [
    "### 21. Create a checkerboard 8x8 matrix using the tile function."
   ]
  },
  {
   "cell_type": "markdown",
   "metadata": {},
   "source": [
    "We have solved similar problem in question number 19 but using a different approach."
   ]
  },
  {
   "cell_type": "code",
   "execution_count": 7,
   "metadata": {},
   "outputs": [
    {
     "data": {
      "text/plain": [
       "array([[1, 0, 1, 0, 1, 0, 1, 0],\n",
       "       [0, 1, 0, 1, 0, 1, 0, 1],\n",
       "       [1, 0, 1, 0, 1, 0, 1, 0],\n",
       "       [0, 1, 0, 1, 0, 1, 0, 1],\n",
       "       [1, 0, 1, 0, 1, 0, 1, 0],\n",
       "       [0, 1, 0, 1, 0, 1, 0, 1],\n",
       "       [1, 0, 1, 0, 1, 0, 1, 0],\n",
       "       [0, 1, 0, 1, 0, 1, 0, 1]])"
      ]
     },
     "execution_count": 7,
     "metadata": {},
     "output_type": "execute_result"
    }
   ],
   "source": [
    "sample_array = np.eye(2, dtype = int)   # First creating a 2 by 2 array using \"np.eye()\" function.\n",
    "np.tile(sample_array, (4,4))            # Using \"np.tile()\" function to expand the 2 by 2 array."
   ]
  },
  {
   "cell_type": "markdown",
   "metadata": {},
   "source": [
    "### 22. Normalize a 5x5 random matrix."
   ]
  },
  {
   "cell_type": "markdown",
   "metadata": {},
   "source": [
    "This solution is given in the solution manual. <font color = red> Note: What actually does normalizing a 5 by 5 matrix mean? Am still unclear."
   ]
  },
  {
   "cell_type": "code",
   "execution_count": 16,
   "metadata": {},
   "outputs": [
    {
     "name": "stdout",
     "output_type": "stream",
     "text": [
      "[[ 0.48807629  1.24678856 -0.14569501 -0.93802516  0.64537502]\n",
      " [ 0.80177979  0.15346435  1.2251891  -1.15796164 -1.45815559]\n",
      " [ 1.00648086 -0.93797865 -0.90919434 -0.45526312 -0.26929948]\n",
      " [ 0.33826723  0.436332    0.71132986  1.03609476  1.22695961]\n",
      " [ 0.73854178 -1.70296367 -1.26584037  1.09063271 -1.90493491]]\n"
     ]
    }
   ],
   "source": [
    "Z = np.random.random((5,5))\n",
    "Z = (Z - np.mean (Z)) / (np.std (Z))\n",
    "print(Z)"
   ]
  },
  {
   "cell_type": "markdown",
   "metadata": {},
   "source": [
    "This solution is another solution we find using linear algebra module."
   ]
  },
  {
   "cell_type": "code",
   "execution_count": 17,
   "metadata": {},
   "outputs": [
    {
     "name": "stdout",
     "output_type": "stream",
     "text": [
      "[[0.11967683 0.15557988 0.22738598 0.11967683 0.26328903]\n",
      " [0.21541829 0.20345061 0.05983842 0.01196768 0.21541829]\n",
      " [0.11967683 0.1436122  0.08377378 0.21541829 0.10770915]\n",
      " [0.21541829 0.23935366 0.25132134 0.28722439 0.16754756]\n",
      " [0.10770915 0.28722439 0.22738598 0.28722439 0.28722439]]\n"
     ]
    }
   ],
   "source": [
    "five_matrix = np.random.randint(1, 26, (5, 5))\n",
    "norm = np.linalg.norm(five_matrix)\n",
    "normal_matrix = five_matrix/norm\n",
    "\n",
    "print(normal_matrix)"
   ]
  },
  {
   "cell_type": "markdown",
   "metadata": {},
   "source": [
    "### 23. Create a custom dtype that describes a color as four unsigned bytes (RGBA)."
   ]
  },
  {
   "cell_type": "markdown",
   "metadata": {},
   "source": [
    "This exercie aims to introduce us with the concept of data type in numpy. Unlike python, numpy has more number of data types. This question asks us to create a data type to describe a color with four unsigned bytes. Unsigned bytes, denoted by, 'ubyte' tells that the component used to sotre the data in memory is an unsigned number. "
   ]
  },
  {
   "cell_type": "code",
   "execution_count": 11,
   "metadata": {},
   "outputs": [
    {
     "name": "stdout",
     "output_type": "stream",
     "text": [
      "Array with recently created custom data type\n",
      "\n",
      " [[(1, 1, 1, 1) (0, 0, 0, 0) (0, 0, 0, 0) (0, 0, 0, 0)]\n",
      " [(0, 0, 0, 0) (1, 1, 1, 1) (0, 0, 0, 0) (0, 0, 0, 0)]\n",
      " [(0, 0, 0, 0) (0, 0, 0, 0) (1, 1, 1, 1) (0, 0, 0, 0)]\n",
      " [(0, 0, 0, 0) (0, 0, 0, 0) (0, 0, 0, 0) (1, 1, 1, 1)]]\n",
      "\n",
      "\n",
      " Same array created with int64 data type\n",
      "\n",
      " [[1 0 0 0]\n",
      " [0 1 0 0]\n",
      " [0 0 1 0]\n",
      " [0 0 0 1]]\n"
     ]
    }
   ],
   "source": [
    "# Creating data type using \"np.dtype\" numpy function. \"np.ubyte\" function will indicate that the value used to\n",
    "# indicate data type is an unsigned byte. \n",
    "\n",
    "color_data = np.dtype([('r', np.ubyte),('g', np.ubyte),('b', np.ubyte),('a', np.ubyte)])\n",
    "\n",
    "# Below is an example of how an array will look like with two different data types: one is int\n",
    "example1 = np.eye(4, dtype=dg)\n",
    "example2 = np.eye(4, dtype = int)\n",
    "print('Array with recently created custom data type\\n\\n', example1)\n",
    "print('\\n\\n Same array created with int64 data type\\n\\n', example2)\n"
   ]
  },
  {
   "cell_type": "markdown",
   "metadata": {},
   "source": [
    "### 24. Multiply a 5x3 matrix by a 3x2 matrix (real matrix product)."
   ]
  },
  {
   "cell_type": "code",
   "execution_count": 36,
   "metadata": {},
   "outputs": [
    {
     "name": "stdout",
     "output_type": "stream",
     "text": [
      "Five by three matrix:\n",
      "\n",
      " [[14  3 12]\n",
      " [ 1  9  9]\n",
      " [ 3 14  4]\n",
      " [ 8  8 11]\n",
      " [12  2  9]]\n",
      "\n",
      "\n",
      " Three by two matrix:\n",
      "\n",
      " [[1 2]\n",
      " [5 2]\n",
      " [1 2]]\n",
      "\n",
      "\n",
      " Product of two matrices is:\n",
      "\n",
      " [[41 58]\n",
      " [55 38]\n",
      " [77 42]\n",
      " [59 54]\n",
      " [31 46]]\n"
     ]
    }
   ],
   "source": [
    "five_three_matrix = np.random.randint(1, 15, (5,3))\n",
    "print('Five by three matrix:\\n\\n', five_three_matrix)\n",
    "\n",
    "three_two_matrix  = np.random.randint(1,6, (3,2))\n",
    "print('\\n\\n Three by two matrix:\\n\\n', three_two_matrix)\n",
    "\n",
    "product_matrix  = five_three_matrix@three_two_matrix            # @ is used to do matrix multiplication.\n",
    "print('\\n\\n Product of two matrices is:\\n\\n', product_matrix)"
   ]
  },
  {
   "cell_type": "markdown",
   "metadata": {},
   "source": [
    "### 25. Given a 1D array, negate all elements which are between 3 and 8, in place."
   ]
  },
  {
   "cell_type": "code",
   "execution_count": 52,
   "metadata": {},
   "outputs": [
    {
     "name": "stdout",
     "output_type": "stream",
     "text": [
      "Original one dimensional array \n",
      "\n",
      " [10 11 12 13 14 15 16 17 18 19 20 21 22 23 24 25 26 27 28 29 30 31 32 33\n",
      " 34 35 36 37 38 39]\n",
      "\n",
      "Array with elements between 3 and 8 being negated. \n",
      "\n",
      " [ 10  11  12 -13 -14 -15 -16  17  18  19  20  21  22  23  24  25  26  27\n",
      "  28  29  30  31  32  33  34  35  36  37  38  39]\n"
     ]
    }
   ],
   "source": [
    "one_dim_array = np.arange(10, 40)\n",
    "print('Original one dimensional array \\n\\n', one_dim_array)\n",
    "one_dim_array[3:7] = one_dim_array[3:7]*-1\n",
    "print('\\nArray with elements between 3 and 8 being negated. \\n\\n', one_dim_array)"
   ]
  },
  {
   "cell_type": "markdown",
   "metadata": {},
   "source": [
    "### 26. What is the output of the following script? (★☆☆)\n",
    "\n",
    "<br><br>print(sum(range(5),-1))\n",
    "<br><br>from numpy import *\n",
    "<br><br>print(sum(range(5),-1))"
   ]
  },
  {
   "cell_type": "code",
   "execution_count": 53,
   "metadata": {},
   "outputs": [
    {
     "name": "stdout",
     "output_type": "stream",
     "text": [
      "9\n"
     ]
    }
   ],
   "source": [
    "print(sum(range(5),-1))"
   ]
  },
  {
   "cell_type": "code",
   "execution_count": 54,
   "metadata": {},
   "outputs": [
    {
     "name": "stdout",
     "output_type": "stream",
     "text": [
      "10\n"
     ]
    }
   ],
   "source": [
    "from numpy import *\n",
    "print(sum(range(5),-1))"
   ]
  },
  {
   "cell_type": "code",
   "execution_count": 58,
   "metadata": {},
   "outputs": [
    {
     "name": "stdout",
     "output_type": "stream",
     "text": [
      "range(0, 5) -1\n"
     ]
    }
   ],
   "source": [
    "print(range(5), - 1)"
   ]
  },
  {
   "cell_type": "markdown",
   "metadata": {},
   "source": [
    "### 27. Consider an integer vector Z, which of these expressions are legal?\n",
    "<ol>\n",
    "    <li> Z**Z </li>\n",
    "    <li> 2 << Z >>2 </li>\n",
    "    <li> Z < - Z  </li>\n",
    "    <li> 1j*Z  </li>\n",
    "    <li> Z/1/1 </li>\n",
    "    <li> Z < Z > Z </li>\n",
    "</ol>"
   ]
  },
  {
   "cell_type": "code",
   "execution_count": 4,
   "metadata": {},
   "outputs": [
    {
     "data": {
      "text/plain": [
       "array([ 2,  3,  5,  1, 11])"
      ]
     },
     "execution_count": 4,
     "metadata": {},
     "output_type": "execute_result"
    }
   ],
   "source": [
    "Z = np.array([2,3,5,1,11])\n",
    "Z"
   ]
  },
  {
   "cell_type": "code",
   "execution_count": 3,
   "metadata": {},
   "outputs": [
    {
     "data": {
      "text/plain": [
       "array([           4,           27,         3125,            1,\n",
       "       285311670611])"
      ]
     },
     "execution_count": 3,
     "metadata": {},
     "output_type": "execute_result"
    }
   ],
   "source": [
    "Z**Z"
   ]
  },
  {
   "cell_type": "code",
   "execution_count": 5,
   "metadata": {},
   "outputs": [
    {
     "data": {
      "text/plain": [
       "array([   2,    4,   16,    1, 1024])"
      ]
     },
     "execution_count": 5,
     "metadata": {},
     "output_type": "execute_result"
    }
   ],
   "source": [
    "2<<Z >>2"
   ]
  },
  {
   "cell_type": "code",
   "execution_count": 6,
   "metadata": {},
   "outputs": [
    {
     "data": {
      "text/plain": [
       "array([False, False, False, False, False])"
      ]
     },
     "execution_count": 6,
     "metadata": {},
     "output_type": "execute_result"
    }
   ],
   "source": [
    "Z<-Z"
   ]
  },
  {
   "cell_type": "code",
   "execution_count": 7,
   "metadata": {},
   "outputs": [
    {
     "data": {
      "text/plain": [
       "array([0. +2.j, 0. +3.j, 0. +5.j, 0. +1.j, 0.+11.j])"
      ]
     },
     "execution_count": 7,
     "metadata": {},
     "output_type": "execute_result"
    }
   ],
   "source": [
    "1j*Z"
   ]
  },
  {
   "cell_type": "code",
   "execution_count": 8,
   "metadata": {},
   "outputs": [
    {
     "data": {
      "text/plain": [
       "array([ 2.,  3.,  5.,  1., 11.])"
      ]
     },
     "execution_count": 8,
     "metadata": {},
     "output_type": "execute_result"
    }
   ],
   "source": [
    "Z/1/1"
   ]
  },
  {
   "cell_type": "code",
   "execution_count": 10,
   "metadata": {},
   "outputs": [
    {
     "ename": "ValueError",
     "evalue": "The truth value of an array with more than one element is ambiguous. Use a.any() or a.all()",
     "output_type": "error",
     "traceback": [
      "\u001b[0;31m---------------------------------------------------------------------------\u001b[0m",
      "\u001b[0;31mValueError\u001b[0m                                Traceback (most recent call last)",
      "\u001b[0;32m<ipython-input-10-a8a6f6561db3>\u001b[0m in \u001b[0;36m<module>\u001b[0;34m()\u001b[0m\n\u001b[0;32m----> 1\u001b[0;31m \u001b[0mZ\u001b[0m \u001b[0;34m<\u001b[0m \u001b[0mZ\u001b[0m \u001b[0;34m>\u001b[0m \u001b[0mZ\u001b[0m\u001b[0;34m\u001b[0m\u001b[0m\n\u001b[0m",
      "\u001b[0;31mValueError\u001b[0m: The truth value of an array with more than one element is ambiguous. Use a.any() or a.all()"
     ]
    }
   ],
   "source": [
    "Z < Z > Z"
   ]
  },
  {
   "cell_type": "markdown",
   "metadata": {},
   "source": [
    "### 28. What are the result of the following expressions? (★☆☆)\n",
    "<ol>\n",
    "    <li>np.array(0) / np.array(0)\n",
    "    <li>np.array(0) // np.array(0)\n",
    "    <li>np.array([np.nan]).astype(int).astype(float)\n",
    "</ol>"
   ]
  },
  {
   "cell_type": "code",
   "execution_count": 11,
   "metadata": {},
   "outputs": [
    {
     "name": "stderr",
     "output_type": "stream",
     "text": [
      "/home/anoj/anaconda3/lib/python3.7/site-packages/ipykernel_launcher.py:1: RuntimeWarning: invalid value encountered in true_divide\n",
      "  \"\"\"Entry point for launching an IPython kernel.\n"
     ]
    },
    {
     "data": {
      "text/plain": [
       "nan"
      ]
     },
     "execution_count": 11,
     "metadata": {},
     "output_type": "execute_result"
    }
   ],
   "source": [
    "np.array(0)/np.array(0)"
   ]
  },
  {
   "cell_type": "code",
   "execution_count": 12,
   "metadata": {},
   "outputs": [
    {
     "name": "stderr",
     "output_type": "stream",
     "text": [
      "/home/anoj/anaconda3/lib/python3.7/site-packages/ipykernel_launcher.py:1: RuntimeWarning: divide by zero encountered in floor_divide\n",
      "  \"\"\"Entry point for launching an IPython kernel.\n"
     ]
    },
    {
     "data": {
      "text/plain": [
       "0"
      ]
     },
     "execution_count": 12,
     "metadata": {},
     "output_type": "execute_result"
    }
   ],
   "source": [
    "np.array(0)//np.array(0)"
   ]
  },
  {
   "cell_type": "code",
   "execution_count": 13,
   "metadata": {},
   "outputs": [
    {
     "data": {
      "text/plain": [
       "array([-9.22337204e+18])"
      ]
     },
     "execution_count": 13,
     "metadata": {},
     "output_type": "execute_result"
    }
   ],
   "source": [
    "np.array([np.nan]).astype(int).astype(float)"
   ]
  },
  {
   "cell_type": "markdown",
   "metadata": {},
   "source": [
    "### 29. How to round away from zero a float array ?"
   ]
  },
  {
   "cell_type": "code",
   "execution_count": 9,
   "metadata": {},
   "outputs": [
    {
     "name": "stdout",
     "output_type": "stream",
     "text": [
      "Our example float array is: \n",
      "\n",
      " [ 2.60722574  2.18052043  2.13422102  0.97643866  4.85161496 -7.96624039\n",
      " -4.62594972  5.87137536 -2.38251732  3.42846758]\n",
      "\n",
      "\n",
      " Round away aray is \n",
      "\n",
      " [ 3.  2.  2.  1.  5. -8. -5.  6. -2.  3.]\n"
     ]
    }
   ],
   "source": [
    "example_array = np.random.uniform(-10,+10,10)    # Create an array picking elements randomly from a uniform \n",
    "                                                 # distribution.\n",
    "    \n",
    "print('Our example float array is: \\n\\n', example_array)\n",
    "print('\\n\\n Round away aray is \\n\\n', np.round(example_array))"
   ]
  },
  {
   "cell_type": "markdown",
   "metadata": {},
   "source": [
    "### 30. How to find common values between two arrays? "
   ]
  },
  {
   "cell_type": "markdown",
   "metadata": {},
   "source": [
    "This is asking us to find all intersecting elements in any two arrays. Luckily, this job is made easy by the availability of 'np.intersect1d()' numpy function."
   ]
  },
  {
   "cell_type": "code",
   "execution_count": 4,
   "metadata": {},
   "outputs": [
    {
     "name": "stdout",
     "output_type": "stream",
     "text": [
      "[[ 6 19 18]\n",
      " [ 5  3 13]]\n",
      "\n",
      "\n",
      " [[16 14 13]\n",
      " [13  3 11]]\n",
      "\n",
      "\n",
      "Common values between two arrays are:  [ 3 13]\n"
     ]
    }
   ],
   "source": [
    "array_one = np.random.randint(1,20,(2,3))\n",
    "array_two = np.random.randint(1, 20,(2,3))\n",
    "common_values = np.intersect1d(array_one, array_two)\n",
    "print(array_one)\n",
    "print('\\n\\n', array_two)\n",
    "print('\\n\\nCommon values between two arrays are: ', common_values)"
   ]
  },
  {
   "cell_type": "markdown",
   "metadata": {},
   "source": [
    "### 31. How to ignore all numpy warnings (not recommended)?"
   ]
  },
  {
   "cell_type": "code",
   "execution_count": 2,
   "metadata": {},
   "outputs": [
    {
     "name": "stderr",
     "output_type": "stream",
     "text": [
      "/home/anoj/anaconda3/lib/python3.7/site-packages/ipykernel_launcher.py:1: RuntimeWarning: divide by zero encountered in true_divide\n",
      "  \"\"\"Entry point for launching an IPython kernel.\n"
     ]
    },
    {
     "data": {
      "text/plain": [
       "array([inf, inf, inf, inf, inf, inf, inf, inf, inf, inf])"
      ]
     },
     "execution_count": 2,
     "metadata": {},
     "output_type": "execute_result"
    }
   ],
   "source": [
    "np.ones(10)/0  # This will givewarnings as seen below. "
   ]
  },
  {
   "cell_type": "markdown",
   "metadata": {},
   "source": [
    "We can supress warning message in numpy using 'warning' module in numpy using \"np.warnings.filterwarnings('ignore')\" as shown below."
   ]
  },
  {
   "cell_type": "code",
   "execution_count": 3,
   "metadata": {},
   "outputs": [
    {
     "data": {
      "text/plain": [
       "array([inf, inf, inf, inf, inf, inf, inf, inf, inf, inf])"
      ]
     },
     "execution_count": 3,
     "metadata": {},
     "output_type": "execute_result"
    }
   ],
   "source": [
    "np.warnings.filterwarnings('ignore')\n",
    "np.ones(10)/0"
   ]
  },
  {
   "cell_type": "markdown",
   "metadata": {},
   "source": [
    "<font color = blue>Above method of supressing warning, however, will act everywhere in the code. So, in order to localise the warning supression, we use context manager as shown below. This way, we will keep seeing warning messages outside of this block of code and hence the warning supression won't be universal."
   ]
  },
  {
   "cell_type": "code",
   "execution_count": 2,
   "metadata": {},
   "outputs": [],
   "source": [
    "with np.warnings.catch_warnings():\n",
    "    np.warnings.filterwarnings('ignore')\n",
    "    np.ones(10)/0"
   ]
  },
  {
   "cell_type": "markdown",
   "metadata": {},
   "source": [
    "### 32. Is the following expressions true?"
   ]
  },
  {
   "cell_type": "code",
   "execution_count": 9,
   "metadata": {},
   "outputs": [
    {
     "name": "stderr",
     "output_type": "stream",
     "text": [
      "/home/anoj/anaconda3/lib/python3.7/site-packages/ipykernel_launcher.py:1: RuntimeWarning: invalid value encountered in sqrt\n",
      "  \"\"\"Entry point for launching an IPython kernel.\n"
     ]
    },
    {
     "data": {
      "text/plain": [
       "False"
      ]
     },
     "execution_count": 9,
     "metadata": {},
     "output_type": "execute_result"
    }
   ],
   "source": [
    "np.sqrt(-1) == np.emath.sqrt(-1)"
   ]
  },
  {
   "cell_type": "markdown",
   "metadata": {},
   "source": [
    "Note: <font color = blue>  \"np.emath\" is a short form (alias) handling of numpy function \"np.lib.scimath\". In above particular case, np.sqrt() will not identify the negative square root of any number and give value 'nan'. meaning not a number. However, \"np.lib.scimath.sqrt()\" understands that square root of negative number is a complex number. So, above statement turns out to be false."
   ]
  },
  {
   "cell_type": "markdown",
   "metadata": {},
   "source": [
    "### 33. How to get the dates of yesterday, today and tomorrow?"
   ]
  },
  {
   "cell_type": "markdown",
   "metadata": {},
   "source": [
    "Numpy has a \"datetime64\" module for the use of datetime functionality. So using this module we can work on dates and times."
   ]
  },
  {
   "cell_type": "code",
   "execution_count": 13,
   "metadata": {},
   "outputs": [
    {
     "name": "stdout",
     "output_type": "stream",
     "text": [
      "Today's date is:  2021-08-01\n",
      "\n",
      "\n",
      "Yeseterday's date is:  2021-07-31\n",
      "\n",
      "\n",
      "Tomorrow's date is:  2021-08-02\n"
     ]
    }
   ],
   "source": [
    "todays_date = np.datetime64('today','D')\n",
    "print(\"Today's date is: \", todays_date)\n",
    "yesterday_date = np.datetime64('today', 'D') - np.timedelta64(1, 'D')\n",
    "print(\"\\n\\nYeseterday's date is: \", yesterday_date)\n",
    "tomorrow_date = np.datetime64('today', 'D') + np.timedelta64(1, 'D')\n",
    "print(\"\\n\\nTomorrow's date is: \", tomorrow_date)\n"
   ]
  },
  {
   "cell_type": "markdown",
   "metadata": {},
   "source": [
    "### 34. How to get all the dates corresponding to the month of July 2016?"
   ]
  },
  {
   "cell_type": "markdown",
   "metadata": {},
   "source": [
    "There is a feature in numpy where we can use \"arange\" function to generate the range of dates. \n",
    "\n",
    "https://numpy.org/doc/stable/reference/arrays.datetime.html"
   ]
  },
  {
   "cell_type": "code",
   "execution_count": 7,
   "metadata": {},
   "outputs": [
    {
     "name": "stdout",
     "output_type": "stream",
     "text": [
      "All dates of the month of July 2016: \n",
      "\n",
      " ['2016-07-01' '2016-07-02' '2016-07-03' '2016-07-04' '2016-07-05'\n",
      " '2016-07-06' '2016-07-07' '2016-07-08' '2016-07-09' '2016-07-10'\n",
      " '2016-07-11' '2016-07-12' '2016-07-13' '2016-07-14' '2016-07-15'\n",
      " '2016-07-16' '2016-07-17' '2016-07-18' '2016-07-19' '2016-07-20'\n",
      " '2016-07-21' '2016-07-22' '2016-07-23' '2016-07-24' '2016-07-25'\n",
      " '2016-07-26' '2016-07-27' '2016-07-28' '2016-07-29' '2016-07-30'\n",
      " '2016-07-31']\n"
     ]
    }
   ],
   "source": [
    "july_dates = np.arange('2016-07', '2016-08' , dtype = 'datetime64[D]') # dtype specifies data types. \n",
    "print('All dates of the month of July 2016: \\n\\n',july_dates)"
   ]
  },
  {
   "cell_type": "markdown",
   "metadata": {},
   "source": [
    "### 35. How to compute ((A+B)*(-A/2)) in place (without copy)?"
   ]
  },
  {
   "cell_type": "markdown",
   "metadata": {},
   "source": [
    "In place in numpy means that we don't create a separate memory to store the array. Instead we use the current memory and store the array in it. However, if we create a copy we create a separate memory. "
   ]
  },
  {
   "cell_type": "code",
   "execution_count": 16,
   "metadata": {},
   "outputs": [
    {
     "name": "stdout",
     "output_type": "stream",
     "text": [
      "Array B\n",
      "\n",
      " [[1. 1.]\n",
      " [1. 1.]\n",
      " [1. 1.]]\n",
      "\n",
      "\n",
      " Array B after being changed to hold the addition of array A and array B\n",
      "\n",
      " [[3. 3.]\n",
      " [3. 3.]\n",
      " [3. 3.]]\n",
      "\n",
      "\n",
      " Array B after being changed to contain the product of B and A\n",
      "\n",
      " [[3. 3.]\n",
      " [3. 3.]\n",
      " [3. 3.]]\n"
     ]
    }
   ],
   "source": [
    "A = np.ones((3,2))*2             # Creating a 3 by 2 array A of elements 1 and multiplied by 2. \n",
    "B = np.ones((3,2))               # Creating a 3 by 2 array B of elements 1\n",
    "\n",
    "print('Array B\\n\\n',B)\n",
    "\n",
    "np.add(A, B, out = B)            # We perform first step of operation of adding two arrays and saving in place.\n",
    "print('\\n\\n Array B after being changed to hold the addition of array A and array B\\n\\n',B)\n",
    "\n",
    "np.negative(np.divide(A, 2, out = A))   # Second step of operation being performed divide A by 2 and take its\n",
    "                                        # negative.\n",
    "np.multiply(B, A, out = B)              # Third step of operation being performed. Multiply (A+B) and (-A/2)       \n",
    "print('\\n\\n Array B after being changed to contain the product of B and A\\n\\n',B)"
   ]
  },
  {
   "cell_type": "markdown",
   "metadata": {},
   "source": [
    "### 36. Extract the integer part of a random array of positive numbers using 4 different methods (★★☆)"
   ]
  },
  {
   "cell_type": "markdown",
   "metadata": {},
   "source": [
    "What the question means is that suppose we have an array of random float numbers. Our job is to extract only the integer part of those floating numbers in the array. There are several ways we can do this in numpy. We can either be tricky and use arithmetic technique or use already available numpy functions to extract only the integer part. "
   ]
  },
  {
   "cell_type": "code",
   "execution_count": 3,
   "metadata": {},
   "outputs": [
    {
     "name": "stdout",
     "output_type": "stream",
     "text": [
      "[[ 37.86627374 200.97890298 134.1452914 ]\n",
      " [ 85.45272555 270.98297507 126.20528597]]\n"
     ]
    }
   ],
   "source": [
    "A = np.random.uniform(20,300, (2,3))   # Lets us create any array with floating point positive integers.\n",
    "print(A)"
   ]
  },
  {
   "cell_type": "code",
   "execution_count": 4,
   "metadata": {},
   "outputs": [
    {
     "name": "stdout",
     "output_type": "stream",
     "text": [
      "[[ 37 200 134]\n",
      " [ 85 270 126]]\n"
     ]
    }
   ],
   "source": [
    "method_one = np.floor(A).astype('int32')   # First method makes use of \"floor\" function in numpy\n",
    "print(method_one)"
   ]
  },
  {
   "cell_type": "code",
   "execution_count": 5,
   "metadata": {},
   "outputs": [
    {
     "name": "stdout",
     "output_type": "stream",
     "text": [
      "[[ 37 200 134]\n",
      " [ 85 270 126]]\n"
     ]
    }
   ],
   "source": [
    "method_two = np.ceil(A).astype('int32') - 1   # Second method is bit tricky and makes use of \"ceil\" function\n",
    "print(method_two)"
   ]
  },
  {
   "cell_type": "code",
   "execution_count": 6,
   "metadata": {},
   "outputs": [
    {
     "name": "stdout",
     "output_type": "stream",
     "text": [
      "[[ 37 200 134]\n",
      " [ 85 270 126]]\n"
     ]
    }
   ],
   "source": [
    "method_three = np.floor(A//1).astype('int32') # Third method makes use of floor division.\n",
    "print(method_three)"
   ]
  },
  {
   "cell_type": "code",
   "execution_count": 7,
   "metadata": {},
   "outputs": [
    {
     "name": "stdout",
     "output_type": "stream",
     "text": [
      "[[ 37 200 134]\n",
      " [ 85 270 126]]\n"
     ]
    }
   ],
   "source": [
    "method_four = (A - A%1).astype('int32')       # Fourth method makes use of percentage divison.\n",
    "print(method_four)"
   ]
  },
  {
   "cell_type": "markdown",
   "metadata": {},
   "source": [
    "### 37. Create a 5x5 matrix with row values ranging from 0 to 4"
   ]
  },
  {
   "cell_type": "code",
   "execution_count": 3,
   "metadata": {},
   "outputs": [
    {
     "name": "stdout",
     "output_type": "stream",
     "text": [
      "[[0. 1. 2. 3. 4.]\n",
      " [0. 1. 2. 3. 4.]\n",
      " [0. 1. 2. 3. 4.]\n",
      " [0. 1. 2. 3. 4.]\n",
      " [0. 1. 2. 3. 4.]]\n",
      "\n",
      "\n",
      " Integer form of the array above.\n",
      "\n",
      " [[0 1 2 3 4]\n",
      " [0 1 2 3 4]\n",
      " [0 1 2 3 4]\n",
      " [0 1 2 3 4]\n",
      " [0 1 2 3 4]]\n"
     ]
    }
   ],
   "source": [
    "A = np.arange(0, 5)      # Creating a row elements ranging from 0 to 4\n",
    "B = (np.ones((5,5))*A)   # Creating an array of elements ones and multiply by row created above.\n",
    "                                       \n",
    "print(B)\n",
    "\n",
    "C = B.astype('int32')    # We then convert the array to 'int32' data type.\n",
    "print('\\n\\n Integer form of the array above.\\n\\n', C)"
   ]
  },
  {
   "cell_type": "markdown",
   "metadata": {},
   "source": [
    "### 38. Consider a generator function that generates 10 integers and use it to build an array."
   ]
  },
  {
   "cell_type": "markdown",
   "metadata": {},
   "source": [
    "<font color = red> This question wants to introduce us to generator function in python and use it to create an array. Below I have written two examples of generator function. "
   ]
  },
  {
   "cell_type": "code",
   "execution_count": 34,
   "metadata": {},
   "outputs": [],
   "source": [
    "def first_generator_function():        # First generator function\n",
    "    for k in range(4,10):\n",
    "        yield k"
   ]
  },
  {
   "cell_type": "code",
   "execution_count": 35,
   "metadata": {},
   "outputs": [
    {
     "name": "stdout",
     "output_type": "stream",
     "text": [
      "4 5 6 7 8 9 "
     ]
    }
   ],
   "source": [
    "for val in first_generator_function():\n",
    "    print(val, end = ' ')"
   ]
  },
  {
   "cell_type": "code",
   "execution_count": 32,
   "metadata": {},
   "outputs": [],
   "source": [
    "def second_generator_function():              # Second generator function\n",
    "    n = 1\n",
    "    print('The first value of n is', n)       # prints value 1\n",
    "    \n",
    "    yield n\n",
    "    \n",
    "    n +=1\n",
    "    \n",
    "    print('The second value of n is:', n)     # prints value 2\n",
    "    \n",
    "    yield n\n",
    "    \n",
    "    n +=1\n",
    "    print('The second value of n is:', n)      # prints value 3\n",
    "    \n",
    "#     yield n"
   ]
  },
  {
   "cell_type": "code",
   "execution_count": 36,
   "metadata": {},
   "outputs": [
    {
     "name": "stdout",
     "output_type": "stream",
     "text": [
      "The first value of n is 1\n",
      "The second value of n is: 2\n",
      "The second value of n is: 3\n"
     ]
    },
    {
     "ename": "StopIteration",
     "evalue": "",
     "output_type": "error",
     "traceback": [
      "\u001b[0;31m---------------------------------------------------------------------------\u001b[0m",
      "\u001b[0;31mStopIteration\u001b[0m                             Traceback (most recent call last)",
      "\u001b[0;32m<ipython-input-36-69a4c1641e7b>\u001b[0m in \u001b[0;36m<module>\u001b[0;34m()\u001b[0m\n\u001b[1;32m      2\u001b[0m \u001b[0mnext\u001b[0m\u001b[0;34m(\u001b[0m\u001b[0mxyz\u001b[0m\u001b[0;34m)\u001b[0m                             \u001b[0;31m# generator function will stop iterating once no yield statement is\u001b[0m\u001b[0;34m\u001b[0m\u001b[0m\n\u001b[1;32m      3\u001b[0m \u001b[0mnext\u001b[0m\u001b[0;34m(\u001b[0m\u001b[0mxyz\u001b[0m\u001b[0;34m)\u001b[0m                             \u001b[0;31m# encountered.\u001b[0m\u001b[0;34m\u001b[0m\u001b[0m\n\u001b[0;32m----> 4\u001b[0;31m \u001b[0mnext\u001b[0m\u001b[0;34m(\u001b[0m\u001b[0mxyz\u001b[0m\u001b[0;34m)\u001b[0m\u001b[0;34m\u001b[0m\u001b[0m\n\u001b[0m",
      "\u001b[0;31mStopIteration\u001b[0m: "
     ]
    }
   ],
   "source": [
    "xyz = second_generator_function()     # I have shown StopIteration error below intentionally to exhibit that \n",
    "next(xyz)                             # generator function will stop iterating once no yield statement is \n",
    "next(xyz)                             # encountered. \n",
    "next(xyz)"
   ]
  },
  {
   "cell_type": "markdown",
   "metadata": {},
   "source": [
    "<font color = #7f1020> BELOW IS THE ACTUAL ANSWER OF THE QUESTION"
   ]
  },
  {
   "cell_type": "code",
   "execution_count": 2,
   "metadata": {},
   "outputs": [
    {
     "name": "stdout",
     "output_type": "stream",
     "text": [
      "A list of number from 1 to 10: [1, 2, 3, 4, 5, 6, 7, 8, 9, 10]\n",
      "\n",
      " An array is created\n"
     ]
    },
    {
     "data": {
      "text/plain": [
       "array([ 1,  2,  3,  4,  5,  6,  7,  8,  9, 10], dtype=int32)"
      ]
     },
     "execution_count": 2,
     "metadata": {},
     "output_type": "execute_result"
    }
   ],
   "source": [
    "def generator_function():                               # Generator function\n",
    "    for num in range(1, 11):\n",
    "        yield num\n",
    "    \n",
    "\n",
    "number_list = [val for val in generator_function()]     # creating list from use of generator function above\n",
    "print('A list of number from 1 to 10:', number_list)\n",
    "\n",
    "number_array = np.array(number_list, dtype = 'int32')   # creating a numpy array using the list above.\n",
    "print('\\n An array is created')\n",
    "number_array"
   ]
  },
  {
   "cell_type": "markdown",
   "metadata": {},
   "source": [
    "### 39. Create a vector of size 10 with values ranging from 0 to 1, both excluded"
   ]
  },
  {
   "cell_type": "code",
   "execution_count": 6,
   "metadata": {},
   "outputs": [
    {
     "name": "stdout",
     "output_type": "stream",
     "text": [
      "[0.28352222 0.86501053 0.66782166 0.20348107 0.05465955 0.32172766\n",
      " 0.37279788 0.58267781 0.13776992 0.31672379]\n"
     ]
    }
   ],
   "source": [
    "vector = np.random.rand(10)\n",
    "print(vector)"
   ]
  },
  {
   "cell_type": "markdown",
   "metadata": {},
   "source": [
    "### 40. Create a random vector of size 10 and sort it"
   ]
  },
  {
   "cell_type": "code",
   "execution_count": 19,
   "metadata": {},
   "outputs": [
    {
     "name": "stdout",
     "output_type": "stream",
     "text": [
      "Random vector of size 10 [56 55 79 33 66 68 11  1 73 47]\n",
      "\n",
      "\n",
      " Above vector after being sorted out  [ 1 11 33 47 55 56 66 68 73 79]\n"
     ]
    }
   ],
   "source": [
    "vector = np.random.randint(1, 100, 10)\n",
    "print('Random vector of size 10', vector)\n",
    "sorted_vector = np.sort(vector)\n",
    "print('\\n\\n Above vector after being sorted out ', sorted_vector)"
   ]
  },
  {
   "cell_type": "markdown",
   "metadata": {},
   "source": [
    "### 41. How to sum a small array faster than np.sum?"
   ]
  },
  {
   "cell_type": "markdown",
   "metadata": {},
   "source": [
    "The answer is given in the link below. Since 'np.sum' ultimately goes through 'np.add.reduce',for smaller arrays it is faster to use 'np.add.reduce'.\n",
    "\n",
    "https://stackoverflow.com/questions/16420097/what-is-the-difference-between-np-sum-and-np-add-reduce"
   ]
  },
  {
   "cell_type": "code",
   "execution_count": 25,
   "metadata": {},
   "outputs": [
    {
     "data": {
      "text/plain": [
       "190"
      ]
     },
     "execution_count": 25,
     "metadata": {},
     "output_type": "execute_result"
    }
   ],
   "source": [
    "example_array = np.arange(1, 20)\n",
    "np.add.reduce(example_array)"
   ]
  },
  {
   "cell_type": "markdown",
   "metadata": {},
   "source": [
    "### 42. Consider two random array A and B, check if they are equal"
   ]
  },
  {
   "cell_type": "code",
   "execution_count": 35,
   "metadata": {},
   "outputs": [
    {
     "data": {
      "text/plain": [
       "array([False, False, False, False, False, False, False, False, False,\n",
       "       False])"
      ]
     },
     "execution_count": 35,
     "metadata": {},
     "output_type": "execute_result"
    }
   ],
   "source": [
    "array_A = np.random.randint(10, 50, 10)\n",
    "array_B = np.random.randint(10,50, 10)\n",
    "\n",
    "np.equal(array_A, array_B)    # Checks if each element of two array are equal"
   ]
  },
  {
   "cell_type": "markdown",
   "metadata": {},
   "source": [
    "### 43. Make an array immutable (read-only)"
   ]
  },
  {
   "cell_type": "markdown",
   "metadata": {},
   "source": [
    "Check this link below for detailed discussion. The basic idea is that numpy arrays are inherently mutalbe. We can make use of 'flags' function to make it immutable. \n",
    "\n",
    "https://numpy.org/doc/stable/reference/generated/numpy.ndarray.flags.html"
   ]
  },
  {
   "cell_type": "code",
   "execution_count": 7,
   "metadata": {},
   "outputs": [
    {
     "name": "stdout",
     "output_type": "stream",
     "text": [
      "This is our example array [1 2 3 4 5 6 7 8 9]\n"
     ]
    },
    {
     "ename": "ValueError",
     "evalue": "assignment destination is read-only",
     "output_type": "error",
     "traceback": [
      "\u001b[0;31m---------------------------------------------------------------------------\u001b[0m",
      "\u001b[0;31mValueError\u001b[0m                                Traceback (most recent call last)",
      "\u001b[0;32m<ipython-input-7-d96d44580059>\u001b[0m in \u001b[0;36m<module>\u001b[0;34m()\u001b[0m\n\u001b[1;32m      2\u001b[0m \u001b[0mprint\u001b[0m\u001b[0;34m(\u001b[0m\u001b[0;34m'This is our example array'\u001b[0m\u001b[0;34m,\u001b[0m \u001b[0mexample_array\u001b[0m\u001b[0;34m)\u001b[0m\u001b[0;34m\u001b[0m\u001b[0m\n\u001b[1;32m      3\u001b[0m \u001b[0mexample_array\u001b[0m\u001b[0;34m.\u001b[0m\u001b[0mflags\u001b[0m\u001b[0;34m.\u001b[0m\u001b[0mwriteable\u001b[0m \u001b[0;34m=\u001b[0m \u001b[0;32mFalse\u001b[0m               \u001b[0;31m# This tells that array is now no longer writeable.\u001b[0m\u001b[0;34m\u001b[0m\u001b[0m\n\u001b[0;32m----> 4\u001b[0;31m \u001b[0mexample_array\u001b[0m\u001b[0;34m[\u001b[0m\u001b[0;36m3\u001b[0m\u001b[0;34m]\u001b[0m \u001b[0;34m=\u001b[0m \u001b[0;36m12\u001b[0m               \u001b[0;31m# Trying to assign new value at any positioin of array will return error.\u001b[0m\u001b[0;34m\u001b[0m\u001b[0m\n\u001b[0m",
      "\u001b[0;31mValueError\u001b[0m: assignment destination is read-only"
     ]
    }
   ],
   "source": [
    "example_array = np.arange(1, 10)\n",
    "print('This is our example array', example_array)\n",
    "example_array.flags.writeable = False               # This tells that array is now no longer writeable. \n",
    "example_array[3] = 12               # Trying to assign new value at any positioin of array will return error."
   ]
  },
  {
   "cell_type": "markdown",
   "metadata": {},
   "source": [
    "### 44. Consider a random 10x2 matrix representing cartesian coordinates, convert them to polar coordinates"
   ]
  },
  {
   "cell_type": "code",
   "execution_count": 98,
   "metadata": {
    "scrolled": true
   },
   "outputs": [
    {
     "name": "stdout",
     "output_type": "stream",
     "text": [
      "Cartesian coordinates: \n",
      "\n",
      " [[9 5]\n",
      " [4 5]\n",
      " [5 9]\n",
      " [7 3]\n",
      " [8 1]\n",
      " [3 5]\n",
      " [5 5]\n",
      " [2 3]\n",
      " [9 7]\n",
      " [8 2]]\n",
      "\n",
      "\n",
      "Corresponding polar Cordinates are:\n",
      "\n",
      " [[10.3   6.4  10.3   7.62  8.06  5.83  7.07  3.61 11.4   8.25]\n",
      " [29.05 51.34 60.95 23.2   7.13 59.04 45.   56.31 37.87 14.04]]\n"
     ]
    }
   ],
   "source": [
    "random_matrix = np.random.randint(1, 10, (10,2))\n",
    "print('Cartesian coordinates: \\n\\n',random_matrix)\n",
    "\n",
    "# Separating X and Y co-ordinates\n",
    "\n",
    "x_coordinates = random_matrix[:, 0]\n",
    "y_coordinates = random_matrix[:, 1]\n",
    "\n",
    "# Finding polar radius according to the formula stated above\n",
    "\n",
    "polar_radius = np.round(np.sqrt(x_coordinates**2 + y_coordinates**2),2)\n",
    "\n",
    "# Finding polar angle according to the formula stated above\n",
    "\n",
    "polar_angle = np.round(np.arctan(y_coordinates/x_coordinates)*(180/np.pi), 2)\n",
    "\n",
    "\n",
    "polar_coordinates = np.array([[polar_radius],[polar_angle]], ndmin=2).reshape(2,10)\n",
    "print('\\n\\nCorresponding polar Cordinates are:\\n\\n', polar_coordinates)"
   ]
  },
  {
   "cell_type": "markdown",
   "metadata": {},
   "source": [
    "### 45. Create random vector of size 10 and replace the maximum value by 0"
   ]
  },
  {
   "cell_type": "markdown",
   "metadata": {},
   "source": [
    "Here I will make use of 'np.where' function to get the index of maximum value of array and replace it by 0."
   ]
  },
  {
   "cell_type": "code",
   "execution_count": 27,
   "metadata": {},
   "outputs": [
    {
     "name": "stdout",
     "output_type": "stream",
     "text": [
      "[37 45 17 18 31 23 17 19 43 38]\n",
      "\n",
      "\n",
      " Maximum value 45\n",
      "\n",
      "\n",
      "Random array with maximum value replaced\n",
      "\n",
      " [37  0 17 18 31 23 17 19 43 38]\n"
     ]
    }
   ],
   "source": [
    "random_vector = np.random.randint(10, 50, 10)                   # Creating a random array of size 10.\n",
    "print(random_vector)\n",
    "max_value = np.max(random_vector)                               # Identifying maximum value\n",
    "print(f'\\n\\n Maximum value {max_value}')         \n",
    "index_value = np.where(random_vector == max_value)              # Using np.where to get an index of max value\n",
    "random_vector[index_value] = 0                                  # Max value being replaced with 0\n",
    "print('\\n\\nRandom array with maximum value replaced\\n\\n', random_vector)"
   ]
  },
  {
   "cell_type": "markdown",
   "metadata": {},
   "source": [
    "### 46. Create a structured array with x and y coordinates covering the [0,1]x[0,1] area."
   ]
  },
  {
   "cell_type": "markdown",
   "metadata": {},
   "source": [
    "<font color = 'red'>About Structured Array</font>\n",
    "\n",
    "Structured Array: In general we define array using standard numpy function. Arrays defined that way will have a predefined structure and generally contains elements as single identity. For example:\n",
    "\n",
    "Example Numpy Array\n",
    "\n",
    "[[1 , 2, 3]\n",
    "[4, 11, 5]]\n",
    "\n",
    "Suppose we want an array where each unit contains different types of data in an ordered pair. For instance we want to deinfe array as below.\n",
    "\n",
    "Example Structured Array\n",
    "\n",
    "[[ ('Jason', 11, 150), ('Anoj', 25, 165)]\n",
    "[('Anisha', 20, 163), ('Jenisha', 15, 168)]\n",
    "[('Nabin', 10, 159), ('Anita', 16, 165)]]\n",
    "\n",
    "This array we just defined is called a structured array. Numpy allows us to define an array in our own way when We  have to insert several data types in each unit of the array. In structured array above,each unit of the array contains 'name', 'grade' and 'height' of students in a ordered pair ('name', 'garde', 'height'). So, basically, structured array is customized array that we can define in numpy when we need to create an array to hold data types the way we want. For more see:  https://numpy.org/doc/stable/user/basics.rec.html\n",
    "\n",
    "\n",
    "<font color = 'orange'> What is question asking us? </font>\n",
    "\n",
    "This question asks us to create a structured array that will have data type (x,y) in each unit. And, each data should lie in between 0 to 1. [0,1]x[0,1] means (x,y) x value should lie between o to 1 and y value should lie between 0 to 1 as well. There is no restriction of the shape of array so we can create array of any shape we please."
   ]
  },
  {
   "cell_type": "code",
   "execution_count": 42,
   "metadata": {},
   "outputs": [
    {
     "name": "stdout",
     "output_type": "stream",
     "text": [
      "[[(0. , 0. ) (0.2, 0. ) (0.4, 0. ) (0.6, 0. ) (0.8, 0. ) (1. , 0. )]\n",
      " [(0. , 0.2) (0.2, 0.2) (0.4, 0.2) (0.6, 0.2) (0.8, 0.2) (1. , 0.2)]\n",
      " [(0. , 0.4) (0.2, 0.4) (0.4, 0.4) (0.6, 0.4) (0.8, 0.4) (1. , 0.4)]\n",
      " [(0. , 0.6) (0.2, 0.6) (0.4, 0.6) (0.6, 0.6) (0.8, 0.6) (1. , 0.6)]\n",
      " [(0. , 0.8) (0.2, 0.8) (0.4, 0.8) (0.6, 0.8) (0.8, 0.8) (1. , 0.8)]\n",
      " [(0. , 1. ) (0.2, 1. ) (0.4, 1. ) (0.6, 1. ) (0.8, 1. ) (1. , 1. )]]\n"
     ]
    }
   ],
   "source": [
    "Z = np.zeros((6,6), [('x',float),('y',float)])\n",
    "Z['x'], Z['y'] = np.meshgrid(np.linspace(0,1,6), np.linspace(0,1,6))\n",
    "print(Z)"
   ]
  },
  {
   "cell_type": "code",
   "execution_count": 39,
   "metadata": {},
   "outputs": [],
   "source": [
    "structured_array = np.zeros((3,3), dtype = [('x_coordinate', float), ('y_coordinate', float)])\n",
    "structured_array['x_coordinate'], structured_array['y_coordinate'] = np.meshgrid(np.linspace(0, 1, 3), np.linspace(0,1,3))"
   ]
  },
  {
   "cell_type": "code",
   "execution_count": 41,
   "metadata": {},
   "outputs": [
    {
     "name": "stdout",
     "output_type": "stream",
     "text": [
      "[[(0. , 0. ) (0.5, 0. ) (1. , 0. )]\n",
      " [(0. , 0.5) (0.5, 0.5) (1. , 0.5)]\n",
      " [(0. , 1. ) (0.5, 1. ) (1. , 1. )]]\n"
     ]
    }
   ],
   "source": [
    "print(structured_array)"
   ]
  },
  {
   "cell_type": "code",
   "execution_count": 3,
   "metadata": {},
   "outputs": [],
   "source": [
    "structured_array = np.array([[(3 ,3), (3,3), (3,3)], [(3 ,3), (3,3), (3,3)], [(3 ,3), (3,3), (3,3)]], dtype = [('x_coordinate', float), ('y_coordinate', float)])\n",
    "structured_array['x_coordinate'], structured_array['y_coordinate'] = np.meshgrid(np.linspace(0, 1, 3), np.linspace(0,1,3))"
   ]
  },
  {
   "cell_type": "code",
   "execution_count": 4,
   "metadata": {},
   "outputs": [
    {
     "data": {
      "text/plain": [
       "array([[(0. , 0. ), (0.5, 0. ), (1. , 0. )],\n",
       "       [(0. , 0.5), (0.5, 0.5), (1. , 0.5)],\n",
       "       [(0. , 1. ), (0.5, 1. ), (1. , 1. )]],\n",
       "      dtype=[('x_coordinate', '<f8'), ('y_coordinate', '<f8')])"
      ]
     },
     "execution_count": 4,
     "metadata": {},
     "output_type": "execute_result"
    }
   ],
   "source": [
    "structured_array"
   ]
  },
  {
   "cell_type": "markdown",
   "metadata": {},
   "source": [
    "### 47. Given two arrays, X and Y, construct the Cauchy matrix C (Cij =1/(xi - yj))"
   ]
  },
  {
   "cell_type": "code",
   "execution_count": 15,
   "metadata": {},
   "outputs": [],
   "source": [
    "X = np.random.randint(5, 20, (2,3))                 # Any matrix X\n",
    "Y = np.ones((2,3), dtype= 'int')                    # Any matrix Y\n",
    "C = 1/(X-Y)                                         # Cauchy Matrix formed out of X and Y."
   ]
  },
  {
   "cell_type": "code",
   "execution_count": 21,
   "metadata": {},
   "outputs": [
    {
     "name": "stdout",
     "output_type": "stream",
     "text": [
      "Matrix X: \n",
      "\n",
      " [[16 14  9]\n",
      " [ 9 10 12]]\n",
      "\n",
      "\n",
      "Matrix Y: \n",
      "\n",
      " [[1 1 1]\n",
      " [1 1 1]]\n",
      "\n",
      "\n",
      "Cauchy Matrix: \n",
      "\n",
      " [[0.06666667 0.07692308 0.125     ]\n",
      " [0.125      0.11111111 0.09090909]]\n"
     ]
    }
   ],
   "source": [
    "print('Matrix X: \\n\\n',X)\n",
    "print('\\n\\nMatrix Y: \\n\\n',Y)\n",
    "print('\\n\\nCauchy Matrix: \\n\\n',C)"
   ]
  },
  {
   "cell_type": "markdown",
   "metadata": {},
   "source": [
    "### 48. Print the minimum and maximum representable value for each numpy scalar type."
   ]
  },
  {
   "cell_type": "markdown",
   "metadata": {},
   "source": [
    "What this question is asking us is to find the maximum and minimum value that is supported by each numpy calar. While creating an array each element of a given array should be uniform. For example it could by integer type, float types, etc. In case of integer types there are 'int8', 'int16', 'int32', etc. This tells us that it contains 8 bits, 16 bits etc. This is not important for this question. We only want to know what is the range of values supported by these data types. Similarly we could also find for float types as 'float32', 'float64', etc.\n",
    "\n",
    "There is a numpy function which helps us to gather inforamtion about it. For integer data types we use 'iinfo' and for float data types we use 'finfo'. For instance, if we want to know the maximum representable supported by 'int32' data types we can get it by using 'np.iinfo('int32').max'. Here, in this code I have used for loop to make it easier to gather values of integer and float data types."
   ]
  },
  {
   "cell_type": "code",
   "execution_count": 3,
   "metadata": {},
   "outputs": [
    {
     "name": "stdout",
     "output_type": "stream",
     "text": [
      "\u001b[46m Below are the maximum and minimum representable value for integer types.\n",
      "\u001b[0m\n",
      "SCALAR TYPE: int8\n",
      "Maximum representable value for int8 scalar type is 127\n",
      "\n",
      "Minimum representable value for int8 scalar type is -128\n",
      "\n",
      "\n",
      "SCALAR TYPE: int16\n",
      "Maximum representable value for int16 scalar type is 32767\n",
      "\n",
      "Minimum representable value for int16 scalar type is -32768\n",
      "\n",
      "\n",
      "SCALAR TYPE: int32\n",
      "Maximum representable value for int32 scalar type is 2147483647\n",
      "\n",
      "Minimum representable value for int32 scalar type is -2147483648\n",
      "\n",
      "\n",
      "SCALAR TYPE: int64\n",
      "Maximum representable value for int64 scalar type is 9223372036854775807\n",
      "\n",
      "Minimum representable value for int64 scalar type is -9223372036854775808\n",
      "\n",
      "\n",
      "\u001b[42m Below are the maximum and minimum representable value for float types.\n",
      "\u001b[0m\n",
      "SCALAR TYPE: float32\n",
      "Maximum representable value for float32 scalar type is 3.4028234663852886e+38\n",
      "\n",
      "Minimum representable value for float32 scalar type is -3.4028234663852886e+38\n",
      "\n",
      "\n",
      "SCALAR TYPE: float64\n",
      "Maximum representable value for float64 scalar type is 1.7976931348623157e+308\n",
      "\n",
      "Minimum representable value for float64 scalar type is -1.7976931348623157e+308\n",
      "\n",
      "\n"
     ]
    }
   ],
   "source": [
    "from colorama import Back, Style, Fore\n",
    "\n",
    "print(Back.CYAN,'Below are the maximum and minimum representable value for integer types.')\n",
    "print(Style.RESET_ALL)\n",
    "for val in ('int8', 'int16', 'int32', 'int64'):\n",
    "    print(f'SCALAR TYPE: {val}')\n",
    "    print(f'Maximum representable value for {val} scalar type is {np.iinfo(val).max}\\n')\n",
    "    print(f'Minimum representable value for {val} scalar type is {np.iinfo(val).min}\\n\\n')\n",
    "\n",
    "print(Back.GREEN, 'Below are the maximum and minimum representable value for float types.')\n",
    "print(Style.RESET_ALL)\n",
    "\n",
    "for val in ('float32', 'float64'):\n",
    "    print(f'SCALAR TYPE: {val}')\n",
    "    print(f'Maximum representable value for {val} scalar type is {np.finfo(val).max}\\n')\n",
    "    print(f'Minimum representable value for {val} scalar type is {np.finfo(val).min}\\n\\n')\n",
    "\n",
    "    "
   ]
  },
  {
   "cell_type": "markdown",
   "metadata": {},
   "source": [
    "### 49. How to print all the values of an array?\n",
    "\n",
    "\n",
    "Generally, when we have an array of large size, numpy condenses the array and only shows few values. But if we want to see all the values in an array we use 'set_printoptions()' numpy function and set threshold in it to see the range of values we want to see. If we want to see all the values in an array we set 'threshold' value to be 'np.inf'  "
   ]
  },
  {
   "cell_type": "code",
   "execution_count": 6,
   "metadata": {},
   "outputs": [
    {
     "name": "stdout",
     "output_type": "stream",
     "text": [
      "[[40 28 14 ... 33 39 48]\n",
      " [19 46 37 ... 38 32 33]\n",
      " [28 25 49 ... 23 16 46]\n",
      " ...\n",
      " [27 44 24 ... 13 11 41]\n",
      " [28 23 12 ... 44 26 32]\n",
      " [39 27 49 ... 11 42 16]]\n"
     ]
    }
   ],
   "source": [
    "X = np.random.randint(10, 50, (50,30))\n",
    "print(X)"
   ]
  },
  {
   "cell_type": "code",
   "execution_count": 7,
   "metadata": {},
   "outputs": [
    {
     "name": "stdout",
     "output_type": "stream",
     "text": [
      "[[40 28 14 38 44 13 11 24 30 44 27 43 32 21 32 33 46 22 39 37 30 22 14 33\n",
      "  18 49 28 33 39 48]\n",
      " [19 46 37 32 10 13 10 23 42 37 26 17 47 41 41 25 33 39 24 49 25 17 42 40\n",
      "  38 18 17 38 32 33]\n",
      " [28 25 49 34 21 46 17 12 10 37 36 43 44 34 30 28 22 38 29 31 47 49 35 19\n",
      "  40 43 43 23 16 46]\n",
      " [32 44 49 17 28 15 42 28 13 49 14 10 27 39 46 23 33 21 49 43 18 34 14 33\n",
      "  16 27 16 32 42 31]\n",
      " [18 15 40 49 27 12 47 37 33 23 19 42 14 10 17 34 17 24 47 15 26 40 20 40\n",
      "  42 48 39 33 29 20]\n",
      " [11 33 37 25 25 45 21 30 36 29 43 14 36 28 11 22 38 41 27 35 41 25 47 21\n",
      "  28 34 29 31 46 24]\n",
      " [33 18 39 44 28 49 45 21 14 46 37 46 24 15 16 25 42 38 18 28 17 32 39 43\n",
      "  16 25 39 43 22 19]\n",
      " [43 12 11 19 42 28 35 25 33 21 49 19 11 41 19 46 32 18 19 26 44 12 41 29\n",
      "  22 23 13 28 46 20]\n",
      " [11 27 46 27 39 44 16 24 40 31 29 47 39 29 49 18 40 34 28 32 31 31 39 12\n",
      "  35 36 46 37 30 40]\n",
      " [17 26 32 12 19 39 16 41 21 47 21 44 17 15 44 44 28 37 24 47 37 27 35 34\n",
      "  12 20 42 24 30 25]\n",
      " [24 14 39 23 49 28 10 16 28 26 18 25 38 18 17 47 16 35 31 17 37 40 18 40\n",
      "  24 39 49 34 12 35]\n",
      " [36 38 49 25 41 49 27 48 26 17 48 36 27 46 24 43 46 32 26 49 32 18 44 10\n",
      "  22 32 39 12 36 12]\n",
      " [21 33 49 43 42 38 25 27 46 36 31 37 44 33 32 38 28 49 38 34 36 20 35 15\n",
      "  39 44 19 11 26 12]\n",
      " [36 32 41 49 11 46 25 42 47 25 46 35 26 37 27 44 45 46 25 25 23 46 34 40\n",
      "  43 18 19 19 28 13]\n",
      " [49 32 43 18 24 18 11 37 41 11 30 41 31 20 11 14 32 23 42 18 45 36 39 16\n",
      "  37 29 23 18 21 44]\n",
      " [42 45 16 14 29 23 43 46 21 31 11 27 15 46 30 11 11 23 26 37 46 43 31 24\n",
      "  31 26 42 30 13 23]\n",
      " [26 23 49 49 14 21 37 12 36 24 46 38 18 10 10 15 28 38 39 21 17 30 18 10\n",
      "  13 27 29 33 23 17]\n",
      " [36 11 45 42 23 14 29 31 48 40 25 21 20 29 38 36 25 24 20 21 38 31 18 49\n",
      "  26 19 41 39 32 14]\n",
      " [44 34 10 30 33 42 27 31 28 46 36 42 41 27 14 14 36 49 42 40 24 28 42 15\n",
      "  30 39 19 29 44 35]\n",
      " [41 46 25 16 29 31 26 44 17 30 38 18 19 49 46 41 40 32 12 19 37 22 32 15\n",
      "  26 17 19 49 24 27]\n",
      " [42 31 32 33 13 13 41 49 36 45 42 24 24 25 41 13 46 35 35 46 34 22 31 34\n",
      "  10 15 37 27 48 10]\n",
      " [17 24 44 26 28 36 49 11 33 47 12 18 22 16 27 33 47 22 47 45 17 27 31 17\n",
      "  15 39 15 49 33 28]\n",
      " [42 12 37 25 26 35 17 36 13 11 17 18 40 18 25 21 42 11 12 26 49 32 46 15\n",
      "  45 24 38 21 37 33]\n",
      " [15 47 38 37 46 42 23 42 30 12 46 49 29 49 37 34 36 22 46 39 36 42 43 22\n",
      "  25 13 20 23 49 26]\n",
      " [22 35 26 33 41 31 33 20 13 44 43 47 13 22 33 30 43 44 35 34 16 31 12 17\n",
      "  16 12 10 49 12 40]\n",
      " [29 23 29 44 30 13 41 34 39 43 49 19 38 15 39 18 45 41 29 26 15 39 28 33\n",
      "  11 17 26 37 35 44]\n",
      " [48 41 30 36 13 47 24 19 32 46 33 43 42 38 22 37 44 47 13 41 47 19 10 34\n",
      "  46 12 23 21 30 24]\n",
      " [35 39 22 38 36 15 14 33 17 18 48 44 11 37 26 18 31 25 29 46 20 33 32 27\n",
      "  45 20 37 25 32 31]\n",
      " [27 26 12 24 30 21 23 28 10 22 23 28 42 19 27 45 44 26 45 14 20 48 41 46\n",
      "  44 44 19 40 36 20]\n",
      " [22 15 12 35 38 45 16 40 17 25 17 16 18 30 22 12 22 19 29 14 20 15 33 11\n",
      "  42 15 32 11 14 28]\n",
      " [17 38 46 23 40 27 23 43 34 10 19 11 35 26 22 14 20 26 31 35 32 31 32 42\n",
      "  11 19 32 22 16 35]\n",
      " [35 29 18 17 12 14 40 23 28 23 10 10 23 35 30 22 31 21 24 26 45 34 22 10\n",
      "  32 33 37 18 30 11]\n",
      " [33 47 12 34 35 46 35 47 18 30 17 16 16 36 44 25 17 37 14 13 29 19 24 39\n",
      "  23 30 23 49 49 47]\n",
      " [34 46 29 34 41 35 10 41 39 10 28 29 16 22 29 23 42 47 14 23 11 31 30 20\n",
      "  30 23 34 46 48 36]\n",
      " [42 23 48 45 36 26 42 48 45 21 48 47 34 37 47 22 13 19 37 39 18 21 43 38\n",
      "  25 39 46 34 29 13]\n",
      " [28 29 25 30 49 11 11 35 39 44 13 21 16 32 44 20 19 22 42 48 28 39 45 33\n",
      "  28 16 45 45 32 14]\n",
      " [36 13 46 20 40 15 16 38 18 26 40 30 41 45 33 26 24 35 11 17 47 45 38 34\n",
      "  30 11 16 26 26 44]\n",
      " [41 23 23 29 43 23 19 11 23 13 22 38 31 42 41 22 20 48 31 49 49 28 19 36\n",
      "  46 49 20 39 23 12]\n",
      " [23 41 21 12 47 21 13 12 13 29 25 38 26 45 19 41 27 25 44 28 14 22 46 16\n",
      "  22 47 49 20 18 38]\n",
      " [10 47 32 24 17 17 48 36 23 31 34 10 38 29 46 31 15 13 19 13 30 21 18 29\n",
      "  29 45 22 46 33 15]\n",
      " [26 30 40 41 46 35 33 14 24 42 23 18 20 25 42 29 16 43 26 47 49 11 43 48\n",
      "  16 26 14 17 19 27]\n",
      " [30 14 19 33 28 20 45 21 14 31 21 14 11 22 28 49 37 12 13 33 14 14 36 36\n",
      "  34 38 12 37 11 49]\n",
      " [14 25 39 25 45 15 14 25 30 35 40 37 30 15 45 41 35 22 26 46 49 20 48 22\n",
      "  43 19 28 31 30 43]\n",
      " [16 17 35 36 34 21 44 13 13 47 20 20 26 38 29 13 17 36 39 23 14 39 38 24\n",
      "  38 21 13 43 14 24]\n",
      " [25 25 19 40 28 25 24 26 15 39 16 27 19 10 19 36 41 27 15 25 46 20 26 11\n",
      "  10 28 12 29 49 24]\n",
      " [25 20 35 25 34 28 22 27 12 13 21 42 35 36 28 17 46 11 15 11 47 30 16 34\n",
      "  47 20 19 26 33 34]\n",
      " [27 35 49 36 18 18 41 33 19 28 37 10 45 28 30 36 46 27 32 29 26 27 34 44\n",
      "  43 40 19 21 36 36]\n",
      " [27 44 24 41 16 26 45 49 46 44 30 25 41 23 28 38 35 46 19 10 18 38 10 12\n",
      "  30 11 37 13 11 41]\n",
      " [28 23 12 43 18 48 39 13 28 33 41 20 22 40 33 28 48 29 39 19 23 48 45 39\n",
      "  23 42 34 44 26 32]\n",
      " [39 27 49 10 36 36 10 12 31 30 29 20 13 33 38 33 16 18 30 24 43 22 49 21\n",
      "  39 12 18 11 42 16]]\n"
     ]
    }
   ],
   "source": [
    "np.set_printoptions(threshold=np.inf)\n",
    "print(X)"
   ]
  },
  {
   "cell_type": "markdown",
   "metadata": {},
   "source": [
    "### 50. How to find the closest value (to a given scalar) in a vector?"
   ]
  },
  {
   "cell_type": "code",
   "execution_count": 38,
   "metadata": {},
   "outputs": [
    {
     "name": "stdout",
     "output_type": "stream",
     "text": [
      "[[982 305 588 924 890 589  81 941 436 993  86 623  54  12  64 861 158 867]\n",
      " [544 108 937 336 222 143 602 735 209 193 556 763 882 806 620 898  42 342]\n",
      " [128 765 550 567  88 481 420 839 225  42 267 687 434 142 237 681 308 304]\n",
      " [420 244 852 898 831 929  10 411 211 234 479  46 787  24 686 620 730 581]\n",
      " [853 325 899 868 947 404 816 490 602 135 150 700  45 475 486 898 997 191]\n",
      " [436 402 647 711 299 971 378 768  35 156 421 986 905 918 660  69 256 739]\n",
      " [844  33 501 711 825 933 530 809 541 368 668 908  96 574 197 369 814  75]\n",
      " [644 842 195 538 387  31 616 707 237 242 220 394 206 236 616 757 496 439]\n",
      " [847 243 577 871 527 815 396 676 698 507 770 483 591 923 757 389 831 308]\n",
      " [570 584 333  33 412 784 593 233 165 127 141  89 334 383 461 528 937 848]\n",
      " [702 380 520 514 402  94 272 762 986 467 257 164 312 757 585 381 451 271]\n",
      " [678 811 147 496 798 815  80 268  88 584  43 587 775 539 552 371 993 785]\n",
      " [170 437  27  61 805 521 534 819 654 841 484 820 281 180 108 712 874 192]\n",
      " [180 333 568 939 268 152 694 929 552 786 124 953 192  83 390 997 238 274]\n",
      " [101 331 709  47 707 943 838  26 189 377 222 721 686  12 176 246 362 433]\n",
      " [165 566 887 300 369 101 171 109 181 841 311 179  42 931 143 198 623 385]\n",
      " [ 11 731  68 771 243 474  36 387 902 211 228  50  20  90  36 182 985 500]\n",
      " [621 233 879 349 234 306 790 291  47 937 271 252 208  28 594 973  73 842]]\n"
     ]
    }
   ],
   "source": [
    "example_array = np.random.randint(10, 1000, (18,18))\n",
    "print(example_array)"
   ]
  },
  {
   "cell_type": "markdown",
   "metadata": {},
   "source": [
    "<font color = red>Let me elaborate what question is asking us:</font>\n",
    "\n",
    "Suppose we have any given value 121. We also have an array as shown above and we want to find a value in the array which is nearest(or closest) to 121. How do we do it? When the size of array is small we can simply look manually and identify the nearest value in an array to a given value. But when we have an array that is pretty large it becomes tedious and it almost impossible to find the required value. \n",
    "\n",
    "<font color = green> The magic for this problem is mainly done by \"np.argmin()\" function which pulls out the index for a minimum value</font>"
   ]
  },
  {
   "cell_type": "code",
   "execution_count": 40,
   "metadata": {},
   "outputs": [
    {
     "name": "stdout",
     "output_type": "stream",
     "text": [
      "[[790 939 179 723 858  40 518 604 602 261 593 523 663  60 658 835 394 169]\n",
      " [307  53 865 203 820 499 519 906 891 225 639 568 155 352 625 130 480 859]\n",
      " [354 796 100 787  88 503 144 633 532 682 408 286 583  65 614 555 776 947]\n",
      " [147  63 221 518 448 326 476 657 744 126 824 324 382 903 682 938 939  18]\n",
      " [111 224 349 699 669 453 337 595 600 980 205 760 896 224  33 698 106 106]\n",
      " [513 309 988 682 345 326  60 416 736 488 514 292 321 131 616 156 472 534]\n",
      " [767 703 639 536 241 972 615 751 958 914 318 566 871 118 180 319 305  67]\n",
      " [231 386 184 403 440 273 585 961 424 627 335 137 285 280 606 360 447 931]\n",
      " [ 85 259 726 461 732 147 148  51 835 516 924 556 664  79 327 629 241 359]\n",
      " [554 412  97 890 855 961 835 823 727 842 551 118 186 534 912 604 545 715]\n",
      " [339 975 970 966 881 654  36 889 698 959 316 671 736 445  37 787 666 572]\n",
      " [ 87 243 983 717 136 358 277 545 361 903 205 774  57  38 224 370 862 567]\n",
      " [758 627 993 429 420 751 122  92 348 462 331 957 237 786 451 888 476 127]\n",
      " [ 61 292 392 456 518 646 825 139 810 512 603 115 380 576 276 590 124 179]\n",
      " [758 837 982 148 972 887 229 957 941 217 617 782 683 323 996 111  99 440]\n",
      " [498 122 662 896 737 644 490 254 732 235 967 668 591 780 213 103 899  50]\n",
      " [577 254  17 492 141 805  70 533 218 996 350  43 246 798 274 892 116 572]\n",
      " [744 469 987 869 709 776 100 457 944 824 125 315 110 774 492 487 567 715]]\n",
      "\n",
      "\n",
      " Index of closest value: 222\n",
      "\n",
      "\n",
      " Closest Value to 121 in a given array is:  122\n"
     ]
    },
    {
     "name": "stderr",
     "output_type": "stream",
     "text": [
      "/home/anoj/anaconda3/lib/python3.7/site-packages/ipykernel_launcher.py:1: DeprecationWarning: This function is deprecated. Please call randint(10, 1000 + 1) instead\n",
      "  \"\"\"Entry point for launching an IPython kernel.\n"
     ]
    }
   ],
   "source": [
    "example_array = np.random.random_integers(10, 1000, (18 ,18))     # Creating an array\n",
    "print(example_array)\n",
    "test_value = 121                                                  # Sample test value\n",
    "\n",
    "\n",
    "\n",
    "'''In order to identify the nearest value we take the differenece of given value with each value and find \n",
    "absolute values of each of them. While doing so, the nearest value will be the one that will have the least \n",
    "value of difference.\n",
    "'''\n",
    "\n",
    "difference = example_array - test_value\n",
    "array_of_abs_values = np.abs(difference)  \n",
    "\n",
    "# 'argmin()'  function is in-built numpy function that will pick the index of the minimum value from given array\n",
    "index_of_closest_value = array_of_abs_values.argmin()\n",
    "\n",
    "print('\\n\\n Index of closest value:', index_of_closest_value)\n",
    "\n",
    "closest_val = np.ravel(example_array)[index_of_closest_value]\n",
    "\n",
    "print('\\n\\n Closest Value to 121 in a given array is: ', closest_val)"
   ]
  },
  {
   "cell_type": "markdown",
   "metadata": {},
   "source": [
    "### 51. Create a structured array representing a position (x,y) and a color (r,g,b).\n",
    "\n",
    "This is related to question number 48 where we learnt how to create a structured array."
   ]
  },
  {
   "cell_type": "code",
   "execution_count": 26,
   "metadata": {},
   "outputs": [
    {
     "name": "stdout",
     "output_type": "stream",
     "text": [
      "\n",
      "First two component represent position and last three componnent will represent color.\n",
      "\n",
      "\n",
      "[[(0., 0., 0., 0., 0.) (0., 0., 0., 0., 0.) (0., 0., 0., 0., 0.)]\n",
      " [(0., 0., 0., 0., 0.) (0., 0., 0., 0., 0.) (0., 0., 0., 0., 0.)]\n",
      " [(0., 0., 0., 0., 0.) (0., 0., 0., 0., 0.) (0., 0., 0., 0., 0.)]]\n"
     ]
    }
   ],
   "source": [
    "pos_color_structured_array = np.zeros((3,3), [('x', float),('y', float),\n",
    "                                              ('r', float),('g', float), ('b', float)])\n",
    "\n",
    "print('\\nFirst two component represent position and last three componnent will represent color.\\n\\n')\n",
    "print(pos_color_structured_array)"
   ]
  },
  {
   "cell_type": "markdown",
   "metadata": {},
   "source": [
    "#### Or we could also create this array as below.\n"
   ]
  },
  {
   "cell_type": "code",
   "execution_count": 27,
   "metadata": {},
   "outputs": [
    {
     "name": "stdout",
     "output_type": "stream",
     "text": [
      "[((0., 0.), (0., 0., 0.)) ((0., 0.), (0., 0., 0.))\n",
      " ((0., 0.), (0., 0., 0.)) ((0., 0.), (0., 0., 0.))]\n"
     ]
    }
   ],
   "source": [
    "pos_color_array = np.zeros(4, [('position', [('x', float), ('y', float)]), \n",
    "                          ('color', [('r', float),('g', float),('b', float)])])\n",
    "print(pos_color_array)"
   ]
  },
  {
   "cell_type": "markdown",
   "metadata": {},
   "source": [
    "### 52. Consider a random vector with shape (10,2) representing coordinates, find point by point distances.\n",
    "\n",
    "Below is a set of co-ordinate points. We are being asked to find distances of each point with all other points and the point itself."
   ]
  },
  {
   "cell_type": "code",
   "execution_count": 47,
   "metadata": {},
   "outputs": [
    {
     "name": "stdout",
     "output_type": "stream",
     "text": [
      "[[0.05623544 0.70133831]\n",
      " [0.80813772 0.63376013]\n",
      " [0.50382821 0.10451781]\n",
      " [0.10736379 0.57053532]\n",
      " [0.30180844 0.02247691]\n",
      " [0.35847852 0.28898181]\n",
      " [0.22440725 0.41994377]\n",
      " [0.36930548 0.18176316]\n",
      " [0.70198891 0.17455165]\n",
      " [0.94312147 0.97986714]]\n"
     ]
    }
   ],
   "source": [
    "rand_vect = np.random.rand(10, 2)\n",
    "print(rand_vect)"
   ]
  },
  {
   "cell_type": "markdown",
   "metadata": {},
   "source": [
    "This is more numpyish way of doing the same thing."
   ]
  },
  {
   "cell_type": "code",
   "execution_count": 46,
   "metadata": {},
   "outputs": [
    {
     "name": "stdout",
     "output_type": "stream",
     "text": [
      "[[0.         0.77588809 0.66989329 0.18556135 0.78395137 0.68754368\n",
      "  0.30972598 0.32119041 0.55838693 0.93739363]\n",
      " [0.77588809 0.         0.42562356 0.79320829 0.37391744 0.59557259\n",
      "  0.48375564 0.49101081 0.38333591 0.5318521 ]\n",
      " [0.66989329 0.42562356 0.         0.58461641 0.74393161 0.17025554\n",
      "  0.38753927 0.36157152 0.12588814 0.26814414]\n",
      " [0.18556135 0.79320829 0.58461641 0.         0.88197072 0.56086738\n",
      "  0.31229603 0.30221285 0.49513314 0.84178785]\n",
      " [0.78395137 0.37391744 0.74393161 0.88197072 0.         0.90198114\n",
      "  0.59556484 0.62305322 0.65593225 0.90004216]\n",
      " [0.68754368 0.59557259 0.17025554 0.56086738 0.90198114 0.\n",
      "  0.45723127 0.42363783 0.24923629 0.3088952 ]\n",
      " [0.30972598 0.48375564 0.38753927 0.31229603 0.59556484 0.45723127\n",
      "  0.         0.03619465 0.26486654 0.65343505]\n",
      " [0.32119041 0.49101081 0.36157152 0.30221285 0.62305322 0.42363783\n",
      "  0.03619465 0.         0.24179695 0.62892855]\n",
      " [0.55838693 0.38333591 0.12588814 0.49513314 0.65593225 0.24923629\n",
      "  0.26486654 0.24179695 0.         0.38865228]\n",
      " [0.93739363 0.5318521  0.26814414 0.84178785 0.90004216 0.3088952\n",
      "  0.65343505 0.62892855 0.38865228 0.        ]]\n"
     ]
    }
   ],
   "source": [
    "X,Y = np.atleast_2d(rand_vect[:,0], rand_vect[:,1])\n",
    "D = np.sqrt( (X-X.T)**2 + (Y-Y.T)**2)\n",
    "print(D)"
   ]
  },
  {
   "cell_type": "markdown",
   "metadata": {},
   "source": [
    "This is not very numpyish way but more pythonic way and is not recommended when we have huge data set. Remember, numpy is always faster and more efficient when we have to deal with large data set."
   ]
  },
  {
   "cell_type": "code",
   "execution_count": 43,
   "metadata": {},
   "outputs": [
    {
     "name": "stdout",
     "output_type": "stream",
     "text": [
      "\n",
      "\n",
      " Point Distances for the Reference Point (0.8290475126214805, 0.08550183860146399)\n",
      "\n",
      "\n",
      "Distance between reference point and (0.8290475126214805, 0.08550183860146399) \t 0.0\n",
      "Distance between reference point and (0.14199294342900826, 0.4459992059612594) \t 0.775888093040225\n",
      "Distance between reference point and (0.5033510980384046, 0.6708896290191653) \t 0.669893289742769\n",
      "Distance between reference point and (0.9110961127050806, 0.25193813696345946) \t 0.18556134885293793\n",
      "Distance between reference point and (0.045096407579718556, 0.08485475598689285) \t 0.7839513720965795\n",
      "Distance between reference point and (0.6539176265448949, 0.7503671142975903) \t 0.6875436799387249\n",
      "Distance between reference point and (0.6019383218641843, 0.2961000286421479) \t 0.3097259791732782\n",
      "Distance between reference point and (0.6186633368847236, 0.32819872925162674) \t 0.3211904141341887\n",
      "Distance between reference point and (0.512239691829023, 0.5453156820577489) \t 0.5583869321082888\n",
      "Distance between reference point and (0.39261447760278645, 0.9150999470426896) \t 0.9373936289440462\n",
      "\n",
      "\n",
      " Point Distances for the Reference Point (0.14199294342900826, 0.4459992059612594)\n",
      "\n",
      "\n",
      "Distance between reference point and (0.8290475126214805, 0.08550183860146399) \t 0.775888093040225\n",
      "Distance between reference point and (0.14199294342900826, 0.4459992059612594) \t 0.0\n",
      "Distance between reference point and (0.5033510980384046, 0.6708896290191653) \t 0.42562356406321333\n",
      "Distance between reference point and (0.9110961127050806, 0.25193813696345946) \t 0.7932082850620432\n",
      "Distance between reference point and (0.045096407579718556, 0.08485475598689285) \t 0.37391744062945287\n",
      "Distance between reference point and (0.6539176265448949, 0.7503671142975903) \t 0.5955725856756119\n",
      "Distance between reference point and (0.6019383218641843, 0.2961000286421479) \t 0.48375563511428343\n",
      "Distance between reference point and (0.6186633368847236, 0.32819872925162674) \t 0.49101081078754594\n",
      "Distance between reference point and (0.512239691829023, 0.5453156820577489) \t 0.3833359063863029\n",
      "Distance between reference point and (0.39261447760278645, 0.9150999470426896) \t 0.5318521022566003\n",
      "\n",
      "\n",
      " Point Distances for the Reference Point (0.5033510980384046, 0.6708896290191653)\n",
      "\n",
      "\n",
      "Distance between reference point and (0.8290475126214805, 0.08550183860146399) \t 0.669893289742769\n",
      "Distance between reference point and (0.14199294342900826, 0.4459992059612594) \t 0.42562356406321333\n",
      "Distance between reference point and (0.5033510980384046, 0.6708896290191653) \t 0.0\n",
      "Distance between reference point and (0.9110961127050806, 0.25193813696345946) \t 0.5846164124288934\n",
      "Distance between reference point and (0.045096407579718556, 0.08485475598689285) \t 0.7439316055507642\n",
      "Distance between reference point and (0.6539176265448949, 0.7503671142975903) \t 0.17025554373552138\n",
      "Distance between reference point and (0.6019383218641843, 0.2961000286421479) \t 0.38753926930369104\n",
      "Distance between reference point and (0.6186633368847236, 0.32819872925162674) \t 0.3615715215710934\n",
      "Distance between reference point and (0.512239691829023, 0.5453156820577489) \t 0.12588813786470598\n",
      "Distance between reference point and (0.39261447760278645, 0.9150999470426896) \t 0.26814413761007916\n",
      "\n",
      "\n",
      " Point Distances for the Reference Point (0.9110961127050806, 0.25193813696345946)\n",
      "\n",
      "\n",
      "Distance between reference point and (0.8290475126214805, 0.08550183860146399) \t 0.18556134885293793\n",
      "Distance between reference point and (0.14199294342900826, 0.4459992059612594) \t 0.7932082850620432\n",
      "Distance between reference point and (0.5033510980384046, 0.6708896290191653) \t 0.5846164124288934\n",
      "Distance between reference point and (0.9110961127050806, 0.25193813696345946) \t 0.0\n",
      "Distance between reference point and (0.045096407579718556, 0.08485475598689285) \t 0.8819707169037839\n",
      "Distance between reference point and (0.6539176265448949, 0.7503671142975903) \t 0.5608673811071494\n",
      "Distance between reference point and (0.6019383218641843, 0.2961000286421479) \t 0.31229603313885307\n",
      "Distance between reference point and (0.6186633368847236, 0.32819872925162674) \t 0.3022128493465181\n",
      "Distance between reference point and (0.512239691829023, 0.5453156820577489) \t 0.49513314213412407\n",
      "Distance between reference point and (0.39261447760278645, 0.9150999470426896) \t 0.8417878546794967\n",
      "\n",
      "\n",
      " Point Distances for the Reference Point (0.045096407579718556, 0.08485475598689285)\n",
      "\n",
      "\n",
      "Distance between reference point and (0.8290475126214805, 0.08550183860146399) \t 0.7839513720965795\n",
      "Distance between reference point and (0.14199294342900826, 0.4459992059612594) \t 0.37391744062945287\n",
      "Distance between reference point and (0.5033510980384046, 0.6708896290191653) \t 0.7439316055507642\n",
      "Distance between reference point and (0.9110961127050806, 0.25193813696345946) \t 0.8819707169037839\n",
      "Distance between reference point and (0.045096407579718556, 0.08485475598689285) \t 0.0\n",
      "Distance between reference point and (0.6539176265448949, 0.7503671142975903) \t 0.9019811393407898\n",
      "Distance between reference point and (0.6019383218641843, 0.2961000286421479) \t 0.595564843424443\n",
      "Distance between reference point and (0.6186633368847236, 0.32819872925162674) \t 0.6230532174033292\n",
      "Distance between reference point and (0.512239691829023, 0.5453156820577489) \t 0.6559322468496703\n",
      "Distance between reference point and (0.39261447760278645, 0.9150999470426896) \t 0.9000421580480741\n",
      "\n",
      "\n",
      " Point Distances for the Reference Point (0.6539176265448949, 0.7503671142975903)\n",
      "\n",
      "\n",
      "Distance between reference point and (0.8290475126214805, 0.08550183860146399) \t 0.6875436799387249\n",
      "Distance between reference point and (0.14199294342900826, 0.4459992059612594) \t 0.5955725856756119\n",
      "Distance between reference point and (0.5033510980384046, 0.6708896290191653) \t 0.17025554373552138\n",
      "Distance between reference point and (0.9110961127050806, 0.25193813696345946) \t 0.5608673811071494\n",
      "Distance between reference point and (0.045096407579718556, 0.08485475598689285) \t 0.9019811393407898\n",
      "Distance between reference point and (0.6539176265448949, 0.7503671142975903) \t 0.0\n",
      "Distance between reference point and (0.6019383218641843, 0.2961000286421479) \t 0.4572312688618082\n",
      "Distance between reference point and (0.6186633368847236, 0.32819872925162674) \t 0.42363782913210213\n",
      "Distance between reference point and (0.512239691829023, 0.5453156820577489) \t 0.24923628758462346\n",
      "Distance between reference point and (0.39261447760278645, 0.9150999470426896) \t 0.3088951955458139\n",
      "\n",
      "\n",
      " Point Distances for the Reference Point (0.6019383218641843, 0.2961000286421479)\n",
      "\n",
      "\n",
      "Distance between reference point and (0.8290475126214805, 0.08550183860146399) \t 0.3097259791732782\n",
      "Distance between reference point and (0.14199294342900826, 0.4459992059612594) \t 0.48375563511428343\n",
      "Distance between reference point and (0.5033510980384046, 0.6708896290191653) \t 0.38753926930369104\n",
      "Distance between reference point and (0.9110961127050806, 0.25193813696345946) \t 0.31229603313885307\n",
      "Distance between reference point and (0.045096407579718556, 0.08485475598689285) \t 0.595564843424443\n",
      "Distance between reference point and (0.6539176265448949, 0.7503671142975903) \t 0.4572312688618082\n",
      "Distance between reference point and (0.6019383218641843, 0.2961000286421479) \t 0.0\n",
      "Distance between reference point and (0.6186633368847236, 0.32819872925162674) \t 0.03619465027119649\n",
      "Distance between reference point and (0.512239691829023, 0.5453156820577489) \t 0.2648665440133006\n",
      "Distance between reference point and (0.39261447760278645, 0.9150999470426896) \t 0.6534350547347817\n",
      "\n",
      "\n",
      " Point Distances for the Reference Point (0.6186633368847236, 0.32819872925162674)\n",
      "\n",
      "\n",
      "Distance between reference point and (0.8290475126214805, 0.08550183860146399) \t 0.3211904141341887\n",
      "Distance between reference point and (0.14199294342900826, 0.4459992059612594) \t 0.49101081078754594\n",
      "Distance between reference point and (0.5033510980384046, 0.6708896290191653) \t 0.3615715215710934\n",
      "Distance between reference point and (0.9110961127050806, 0.25193813696345946) \t 0.3022128493465181\n",
      "Distance between reference point and (0.045096407579718556, 0.08485475598689285) \t 0.6230532174033292\n",
      "Distance between reference point and (0.6539176265448949, 0.7503671142975903) \t 0.42363782913210213\n",
      "Distance between reference point and (0.6019383218641843, 0.2961000286421479) \t 0.03619465027119649\n",
      "Distance between reference point and (0.6186633368847236, 0.32819872925162674) \t 0.0\n",
      "Distance between reference point and (0.512239691829023, 0.5453156820577489) \t 0.24179694667790505\n",
      "Distance between reference point and (0.39261447760278645, 0.9150999470426896) \t 0.62892855415166\n",
      "\n",
      "\n",
      " Point Distances for the Reference Point (0.512239691829023, 0.5453156820577489)\n",
      "\n",
      "\n",
      "Distance between reference point and (0.8290475126214805, 0.08550183860146399) \t 0.5583869321082888\n",
      "Distance between reference point and (0.14199294342900826, 0.4459992059612594) \t 0.3833359063863029\n",
      "Distance between reference point and (0.5033510980384046, 0.6708896290191653) \t 0.12588813786470598\n",
      "Distance between reference point and (0.9110961127050806, 0.25193813696345946) \t 0.49513314213412407\n",
      "Distance between reference point and (0.045096407579718556, 0.08485475598689285) \t 0.6559322468496703\n",
      "Distance between reference point and (0.6539176265448949, 0.7503671142975903) \t 0.24923628758462346\n",
      "Distance between reference point and (0.6019383218641843, 0.2961000286421479) \t 0.2648665440133006\n",
      "Distance between reference point and (0.6186633368847236, 0.32819872925162674) \t 0.24179694667790505\n",
      "Distance between reference point and (0.512239691829023, 0.5453156820577489) \t 0.0\n",
      "Distance between reference point and (0.39261447760278645, 0.9150999470426896) \t 0.3886522796911473\n",
      "\n",
      "\n",
      " Point Distances for the Reference Point (0.39261447760278645, 0.9150999470426896)\n",
      "\n",
      "\n",
      "Distance between reference point and (0.8290475126214805, 0.08550183860146399) \t 0.9373936289440462\n",
      "Distance between reference point and (0.14199294342900826, 0.4459992059612594) \t 0.5318521022566003\n",
      "Distance between reference point and (0.5033510980384046, 0.6708896290191653) \t 0.26814413761007916\n",
      "Distance between reference point and (0.9110961127050806, 0.25193813696345946) \t 0.8417878546794967\n",
      "Distance between reference point and (0.045096407579718556, 0.08485475598689285) \t 0.9000421580480741\n",
      "Distance between reference point and (0.6539176265448949, 0.7503671142975903) \t 0.3088951955458139\n",
      "Distance between reference point and (0.6019383218641843, 0.2961000286421479) \t 0.6534350547347817\n",
      "Distance between reference point and (0.6186633368847236, 0.32819872925162674) \t 0.62892855415166\n",
      "Distance between reference point and (0.512239691829023, 0.5453156820577489) \t 0.3886522796911473\n",
      "Distance between reference point and (0.39261447760278645, 0.9150999470426896) \t 0.0\n"
     ]
    }
   ],
   "source": [
    "for m in range(0, rand_vect.shape[0]):\n",
    "    point = rand_vect[m]\n",
    "    print('\\n\\n Point Distances for the Reference Point', (point[0],point[1]))\n",
    "    print('\\n')\n",
    "    for n in range(0, rand_vect.shape[0]):\n",
    "        dist = np.sqrt((point[0] - rand_vect[n][0])**2 + (point[1] - rand_vect[n][1])**2)\n",
    "        print('Distance between reference point and',(rand_vect[n][0], rand_vect[n][1]), '\\t', dist)"
   ]
  },
  {
   "cell_type": "markdown",
   "metadata": {},
   "source": [
    "### 53. How to convert a float (32 bits) array into an integer (32 bits) in place?\n"
   ]
  },
  {
   "cell_type": "code",
   "execution_count": 6,
   "metadata": {},
   "outputs": [
    {
     "name": "stdout",
     "output_type": "stream",
     "text": [
      "[29.267424 19.620466 30.66615  26.526766 50.405693  6.819016  7.176138\n",
      " 53.1212    4.198858 17.034689]\n"
     ]
    },
    {
     "data": {
      "text/plain": [
       "dtype('float32')"
      ]
     },
     "execution_count": 6,
     "metadata": {},
     "output_type": "execute_result"
    }
   ],
   "source": [
    "float_array = (np.random.rand(10)*55).astype('float32')            # Creating any float data type array.\n",
    "\n",
    "# Naturally array created will be of 'float64' datatype. So we change it to 'float32' data type using 'astype()'\n",
    "# method\n",
    "\n",
    "print(float_array)\n",
    "float_array.dtype     # Checking if array is in 'float32' data type."
   ]
  },
  {
   "cell_type": "code",
   "execution_count": 10,
   "metadata": {},
   "outputs": [
    {
     "name": "stdout",
     "output_type": "stream",
     "text": [
      "[29 19 30 26 50  6  7 53  4 17]\n"
     ]
    },
    {
     "data": {
      "text/plain": [
       "dtype('int32')"
      ]
     },
     "execution_count": 10,
     "metadata": {},
     "output_type": "execute_result"
    }
   ],
   "source": [
    "modified_array = float_array.astype('int32') # Converting to 'int32' data type.\n",
    "print(modified_array)\n",
    "modified_array.dtype"
   ]
  },
  {
   "cell_type": "markdown",
   "metadata": {},
   "source": [
    "### 54. How to read the following file?\n",
    "\n",
    "1, 2, 3, 4, 5 <br>\n",
    "6, <t> , <t> , 7, 8 <br>\n",
    ", <t> , 9, 10, 11"
   ]
  },
  {
   "cell_type": "markdown",
   "metadata": {},
   "source": [
    "In this exercise we are asked how we can read file of a given type to a numpy array. It is not in a numpy array format and we need to conver it to a numpy array data type. So, how do we do this? We make use of two functionalities. One is 'StringIO' method from 'io' python module.  This will help us to read string. We then generate numpy array from the text thus created using 'io' module. For this purpose we use 'np.genfromtxt()' method of numpy. This method helps us to create an array from a text. "
   ]
  },
  {
   "cell_type": "code",
   "execution_count": 17,
   "metadata": {},
   "outputs": [
    {
     "name": "stdout",
     "output_type": "stream",
     "text": [
      "[[ 1  2  3  4  5]\n",
      " [ 6  0  0  7  8]\n",
      " [ 0  0  9 10 11]]\n"
     ]
    },
    {
     "data": {
      "text/plain": [
       "numpy.ndarray"
      ]
     },
     "execution_count": 17,
     "metadata": {},
     "output_type": "execute_result"
    }
   ],
   "source": [
    "from io import StringIO\n",
    "\n",
    "# Convert given file to a string using 'StringIO' method in 'io' module\n",
    "\n",
    "sample_string = StringIO('''1, 2, 3, 4, 5\n",
    "                6,  ,  , 7, 8\n",
    "                 ,  , 9,10,11''')\n",
    "        \n",
    "\n",
    "txt_array = np.genfromtxt(sample_string, delimiter=',', dtype = 'int32', filling_values=0) \n",
    "\n",
    "# Empty positions are filled with value 0.\n",
    "\n",
    "print(txt_array)\n",
    "type(txt_array)"
   ]
  },
  {
   "cell_type": "markdown",
   "metadata": {},
   "source": [
    "### 55. What is the equivalent of enumerate for numpy arrays?"
   ]
  },
  {
   "cell_type": "markdown",
   "metadata": {},
   "source": [
    "In python we have an 'enumerate()' function that iterates over a iterable by giving its value and serial count. In numpy we have 'ndenumerate()' function that will specify the positional location of an element in array in an iterative way as shown in the example below. "
   ]
  },
  {
   "cell_type": "code",
   "execution_count": 11,
   "metadata": {},
   "outputs": [
    {
     "name": "stdout",
     "output_type": "stream",
     "text": [
      "[[ 3 17 18 18]\n",
      " [10  5 14  9]\n",
      " [18  3 13 12]]\n"
     ]
    }
   ],
   "source": [
    "z = np.random.randint(3, 20,(3,4))      # Creating any array\n",
    "print(z)"
   ]
  },
  {
   "cell_type": "code",
   "execution_count": 13,
   "metadata": {},
   "outputs": [
    {
     "name": "stdout",
     "output_type": "stream",
     "text": [
      "((0, 0), 3)\n",
      "((0, 1), 17)\n",
      "((0, 2), 18)\n",
      "((0, 3), 18)\n",
      "((1, 0), 10)\n",
      "((1, 1), 5)\n",
      "((1, 2), 14)\n",
      "((1, 3), 9)\n",
      "((2, 0), 18)\n",
      "((2, 1), 3)\n",
      "((2, 2), 13)\n",
      "((2, 3), 12)\n"
     ]
    }
   ],
   "source": [
    "'''  Using 'np.ndenumerate()' numpy function to create an iterable. We can see in the example below every element \n",
    " is being specified with its location with (x,y) ordered pair where 'x' is its index along x-axis and 'y' is\n",
    " its index along y-axis'''\n",
    "\n",
    "for k in np.ndenumerate(z):\n",
    "    print(k)"
   ]
  },
  {
   "cell_type": "markdown",
   "metadata": {},
   "source": [
    "### 56. Generate a generic 2D Gaussian-like array"
   ]
  },
  {
   "cell_type": "markdown",
   "metadata": {},
   "source": [
    "In this example I will create a 5 by 5 Gaussian array generated manually. The main ideas behind the creation of \n",
    "generic Gaussian array is that we make use of the Gaussian function below to do this. \n",
    "\n",
    "$$  f(x) = \\exp{\\Big[-\\frac{(x - \\mu)^2}{2\\sigma^2}\\Big]}   $$\n",
    "\n",
    "This gives us a bell shaped curve. Our aim here is to generate array that contains elements which will represent those Gaussian points. \n",
    "\n",
    "<font color = red> Need more elaborate explaination with plotting of generic Gaussian points generated below.<\\font>"
   ]
  },
  {
   "cell_type": "code",
   "execution_count": 36,
   "metadata": {},
   "outputs": [
    {
     "name": "stdout",
     "output_type": "stream",
     "text": [
      "[[0.36787944 0.53526143 0.60653066 0.53526143 0.36787944]\n",
      " [0.53526143 0.77880078 0.8824969  0.77880078 0.53526143]\n",
      " [0.60653066 0.8824969  1.         0.8824969  0.60653066]\n",
      " [0.53526143 0.77880078 0.8824969  0.77880078 0.53526143]\n",
      " [0.36787944 0.53526143 0.60653066 0.53526143 0.36787944]]\n"
     ]
    }
   ],
   "source": [
    "x, y = np.meshgrid(np.linspace(-1,1,5), np.linspace(-1,1,5))\n",
    "distance = np.sqrt(x**2 + y**2)\n",
    "sigma, mu = 1, 0\n",
    "\n",
    "generic_gaussian = np.exp(-(distance - mu)**2/2*sigma**2)\n",
    "print(generic_gaussian)"
   ]
  },
  {
   "cell_type": "markdown",
   "metadata": {},
   "source": [
    "### 57. How to randomly place p elements in a 2D array?"
   ]
  },
  {
   "cell_type": "markdown",
   "metadata": {},
   "source": [
    "Here we make use of two numpy functions. One is <font color = blue> 'np.random.choice()' </font> function will give us list of integers which we will use to indicate the position where we want to place our p number of elements in any array. \n",
    "    \n",
    "Another function we use is <font color = blue> np.put() </font>. This function will let us PUT any element 'x'(integer) in specified positions. "
   ]
  },
  {
   "cell_type": "code",
   "execution_count": 2,
   "metadata": {},
   "outputs": [
    {
     "name": "stdout",
     "output_type": "stream",
     "text": [
      "Array y1 before being randomly placed with p elements \n",
      "\n",
      " [[22 26 28 25 26]\n",
      " [21 23 29 20 23]\n",
      " [23 26 27 20 22]\n",
      " [28 20 20 21 20]]\n",
      "\n",
      "\n",
      " Elements will be placed at these locations of array y1 \n",
      "\n",
      " [8 3 7 4 1]\n",
      "\n",
      " Array y1 after being randomly placed with p elements. Here the element being placed is 555 \n",
      "\n",
      " [[ 22 555  28 555 555]\n",
      " [ 21  23 555 555  23]\n",
      " [ 23  26  27  20  22]\n",
      " [ 28  20  20  21  20]]\n"
     ]
    }
   ],
   "source": [
    "import numpy as np\n",
    "y1 = np.random.randint(20, 30, (4,5))\n",
    "print('Array y1 before being randomly placed with p elements \\n\\n', y1)\n",
    "x1 = np.random.choice(10, 5, replace = False)\n",
    "print('\\n\\n Elements will be placed at these locations of array y1 \\n\\n', x1)\n",
    "np.put(y1, x1, 555 )\n",
    "print('\\n Array y1 after being randomly placed with p elements. Here the element being placed is 555 \\n\\n', y1)"
   ]
  },
  {
   "cell_type": "markdown",
   "metadata": {},
   "source": [
    "### 58. Subtract the mean of each row of a matrix."
   ]
  },
  {
   "cell_type": "code",
   "execution_count": 11,
   "metadata": {},
   "outputs": [
    {
     "name": "stdout",
     "output_type": "stream",
     "text": [
      "Any sample matrix chosen\n",
      "\n",
      " [[12 14 25 31]\n",
      " [29 18 10 31]\n",
      " [45 40 28 49]]\n",
      "\n",
      "\n",
      " Mean values taken along the vertical axis [28.66666667 24.         21.         37.        ]\n",
      "\n",
      "\n",
      " Matrix after the mean values are subtracted \n",
      "\n",
      " [[-16.66666667 -10.           4.          -6.        ]\n",
      " [  0.33333333  -6.         -11.          -6.        ]\n",
      " [ 16.33333333  16.           7.          12.        ]]\n"
     ]
    }
   ],
   "source": [
    "sample_matrix = np.random.randint(10, 50, (3,4))\n",
    "print('Any sample matrix chosen\\n\\n',sample_matrix)\n",
    "mean_values = np.mean(sample_matrix, axis = 0)\n",
    "print('\\n\\n Mean values taken along the vertical axis', mean_values)\n",
    "new_matrix = sample_matrix - mean_values\n",
    "print('\\n\\n Matrix after the mean values are subtracted \\n\\n', new_matrix)"
   ]
  },
  {
   "cell_type": "markdown",
   "metadata": {},
   "source": [
    "### 59. How to sort an array by the nth column?"
   ]
  },
  {
   "cell_type": "markdown",
   "metadata": {},
   "source": [
    "In this question we are asked to sort whole array based on the sorting index of any particular column. So, what we do is first find the sorting index of nth column. For this we use <font color = blue>'np.argsort()'</font> method in numpy which returns indices of given column. We then use this as our reference index to sort the whole array. "
   ]
  },
  {
   "cell_type": "code",
   "execution_count": 44,
   "metadata": {},
   "outputs": [
    {
     "name": "stdout",
     "output_type": "stream",
     "text": [
      "Our sample array \n",
      "\n",
      " [[18 11 16  1  8  9]\n",
      " [ 1  7 19 17 13 10]\n",
      " [16 13  2 18  1 10]\n",
      " [ 2 12  4 18  6  7]\n",
      " [16 12  7  9 14  5]\n",
      " [ 8  4 14  6 13 12]]\n"
     ]
    }
   ],
   "source": [
    "example_array = np.random.randint(1, 20, (6,6))   # Creating any 6 by 6 array.\n",
    "print('Our sample array \\n\\n', example_array)"
   ]
  },
  {
   "cell_type": "code",
   "execution_count": 45,
   "metadata": {},
   "outputs": [
    {
     "name": "stdout",
     "output_type": "stream",
     "text": [
      "Our sorting indices of fifth column is: \n",
      "\n",
      " [2 3 0 1 4 4]\n",
      "\n",
      "\n",
      " Below is a sorted array based on the above sorting indices\n"
     ]
    },
    {
     "data": {
      "text/plain": [
       "array([[16, 13,  2, 18,  1, 10],\n",
       "       [ 2, 12,  4, 18,  6,  7],\n",
       "       [18, 11, 16,  1,  8,  9],\n",
       "       [ 1,  7, 19, 17, 13, 10],\n",
       "       [16, 12,  7,  9, 14,  5],\n",
       "       [16, 12,  7,  9, 14,  5]])"
      ]
     },
     "execution_count": 45,
     "metadata": {},
     "output_type": "execute_result"
    }
   ],
   "source": [
    "# Finding sorting indices of fifth column. We will use this as a reference to sort all other columns of our \n",
    "# sample array. \n",
    "\n",
    "sorting_index_fourth_column = np.argsort(example_array)[:,4]  \n",
    "print('Our sorting indices of fifth column is: \\n\\n',sorting_index_fourth_column)\n",
    "print('\\n\\n Below is a sorted array based on the above sorting indices')\n",
    "example_array[sorting_index_fourth_column]"
   ]
  },
  {
   "cell_type": "markdown",
   "metadata": {},
   "source": [
    "### 60. How to tell if a given 2D array has null columns?"
   ]
  },
  {
   "cell_type": "code",
   "execution_count": 20,
   "metadata": {},
   "outputs": [
    {
     "name": "stdout",
     "output_type": "stream",
     "text": [
      "Some random array is created for testing \n",
      "\n",
      " [[4 4 2 4 4]\n",
      " [1 2 3 4 4]\n",
      " [1 4 0 2 4]\n",
      " [2 0 3 3 3]]\n",
      "\n",
      "\n",
      "Testing if any of the column has null axis\n",
      "\n",
      " [ True  True  True  True  True]\n"
     ]
    }
   ],
   "source": [
    "sample_array = np.random.randint(0, 5, (4,5))\n",
    "print('Some random array is created for testing \\n\\n',sample_array)\n",
    "column_axis = sample_array.any(axis = 0)\n",
    "\n",
    "# 'array.any()' function will check for null values along the axis specified and returns 'True' or 'False'\n",
    "# result accordingly. Setting axis = 0 will check along the columns of an array.If any of the column will have\n",
    "# null values it will return 'False' for that column.\n",
    "\n",
    "print('\\n\\nTesting if any of the column has null axis\\n\\n', column_axis)"
   ]
  },
  {
   "cell_type": "markdown",
   "metadata": {},
   "source": [
    "### 61. Find the nearest value from a given value in an array."
   ]
  },
  {
   "cell_type": "markdown",
   "metadata": {},
   "source": [
    "<font color = 'purple'>This question has already been done in question number 50.</font>"
   ]
  },
  {
   "cell_type": "markdown",
   "metadata": {},
   "source": [
    "### 62. Considering two arrays with shape (1,3) and (3,1), how to compute their sum using an iterator?"
   ]
  },
  {
   "cell_type": "markdown",
   "metadata": {},
   "source": [
    "In this question we make use of  <font color = blue>'np.nditer()'</font>  function to iterate over the elements of an array and find their sum. <font color = blue>'np.nditer()'</font>  function is used to iterate over all the elements of an array. "
   ]
  },
  {
   "cell_type": "code",
   "execution_count": 52,
   "metadata": {},
   "outputs": [
    {
     "name": "stdout",
     "output_type": "stream",
     "text": [
      "Below is a sample one by three array \n",
      "\n",
      " [[21 30 46]]\n",
      "\n",
      "\n",
      " Below is a sample three by one array \n",
      "\n",
      " [[4]\n",
      " [9]\n",
      " [9]]\n",
      "\n",
      "\n",
      "Sum of all the elements in one by three array is: \t 97\n",
      "\n",
      "\n",
      "Sum of all the elements in three  by one array is: \t 22\n"
     ]
    }
   ],
   "source": [
    "one_by_three_array = np.random.randint(10, 50, (1,3))\n",
    "print('Below is a sample one by three array \\n\\n',one_by_three_array)\n",
    "three_by_one_array = np.random.randint(1, 10, (3,1))\n",
    "print('\\n\\n Below is a sample three by one array \\n\\n', three_by_one_array)\n",
    "\n",
    "# Finding sum of elements of  one by three array.\n",
    "\n",
    "k1 = 0\n",
    "for m in np.nditer(one_by_three_array):\n",
    "    k1 = k1 + m\n",
    "print('\\n\\nSum of all the elements in one by three array is: \\t', k1)\n",
    "\n",
    "# Finding sum of elements of  three by one array.\n",
    "\n",
    "k2 = 0\n",
    "for n in np.nditer(three_by_one_array):\n",
    "    k2 = k2 + n\n",
    "print('\\n\\nSum of all the elements in three  by one array is: \\t', k2 )"
   ]
  },
  {
   "cell_type": "markdown",
   "metadata": {},
   "source": [
    "### 63. Create an array class that has a name attribute."
   ]
  },
  {
   "cell_type": "markdown",
   "metadata": {},
   "source": [
    "This question requires some knowledge of object oriented programming and sbuclassing. Below is the link to numpy tutorial which details on how we can subclass ndarray. You can especially see subsection titled \"Slightly more realistic example - attribute added to existing array\"  to get a precise code. \n",
    "\n",
    "https://numpy.org/doc/stable/user/basics.subclassing.html#slightly-more-realistic-example-attribute-added-to-existing-array\n",
    "\n",
    "\n",
    "\n",
    "<font color = blue>Our main goal for this question is we want to create an array class that has name attribute. So, when we call a particular method of this class it will give name of that array. In the example shown below my array class is named - 'ArrayClass_with_NameAttribute' and the attribute to get the name of the arary can be done by calling  'array_name' method. If no name is give array will have name 'Example_Array'</font>"
   ]
  },
  {
   "cell_type": "code",
   "execution_count": 40,
   "metadata": {},
   "outputs": [],
   "source": [
    "import numpy as np\n",
    "\n",
    "class ArrayClass_with_NameAttribute(np.ndarray):\n",
    "\n",
    "    def __new__(cls, input_array, array_name = 'Example_Array'):\n",
    "        obj = np.asarray(input_array).view(cls)\n",
    "        obj.array_name = array_name                             # array_name instance is added\n",
    "        return obj                                              # returning newly created instance: array_name\n",
    "\n",
    "    def __array_finalize__(self, obj):\n",
    "        if obj is None: return\n",
    "        self.array_name = getattr(obj, 'array_name', 'Example_Array')"
   ]
  },
  {
   "cell_type": "code",
   "execution_count": 41,
   "metadata": {},
   "outputs": [],
   "source": [
    "random_array = np.random.randint(1, 10, (2,3))   # Creating any random array.\n",
    "\n",
    "''' We are creating any class object named - 'named_array'. In this example name of the array is 'NumpyRocks'.\n",
    "\n",
    "'''\n",
    "\n",
    "named_array = ArrayClass_with_NameAttribute(random_array, 'NumpyRocks')"
   ]
  },
  {
   "cell_type": "code",
   "execution_count": 42,
   "metadata": {},
   "outputs": [
    {
     "data": {
      "text/plain": [
       "'NumpyRocks'"
      ]
     },
     "execution_count": 42,
     "metadata": {},
     "output_type": "execute_result"
    }
   ],
   "source": [
    "named_array.array_name     # This should give the name of object - named_array"
   ]
  },
  {
   "cell_type": "code",
   "execution_count": 43,
   "metadata": {},
   "outputs": [
    {
     "name": "stdout",
     "output_type": "stream",
     "text": [
      "[0 1 2 3 4 5 6 7 8 9]\n"
     ]
    },
    {
     "data": {
      "text/plain": [
       "'Example_Array'"
      ]
     },
     "execution_count": 43,
     "metadata": {},
     "output_type": "execute_result"
    }
   ],
   "source": [
    "unnamed_array = ArrayClass_with_NameAttribute(np.arange(10))  # No name is given for this object.\n",
    "print(unnamed_array)                                 \n",
    "unnamed_array.array_name    # Since no name was given for the 'array_name' attribute it returns predefined name."
   ]
  },
  {
   "cell_type": "markdown",
   "metadata": {},
   "source": [
    "### 64. Consider a given vector, how to add 1 to each element indexed by a second vector (be careful with                    repeated indices)?"
   ]
  },
  {
   "cell_type": "markdown",
   "metadata": {},
   "source": [
    "Elaborating Question:\n",
    "\n",
    "Suppose there is a vector A. We have another vector B and we have to assume that elements of these vectors indicate the index position in vector A. For each index position specified by element in B, we add 1 to that element in A with that index position. If any index position is repeated we add 1 repeatedly to corresponding element in A.   "
   ]
  },
  {
   "cell_type": "code",
   "execution_count": 4,
   "metadata": {},
   "outputs": [
    {
     "name": "stdout",
     "output_type": "stream",
     "text": [
      "Our first vector A is: \n",
      "\n",
      " [1. 1. 1. 1. 1.]\n",
      "\n",
      "\n",
      "Our reference vector B which specifies the index positions is: \n",
      "\n",
      " [2 4 4 3 4 1 3 1 1 3 1 4 1 3 4]\n"
     ]
    }
   ],
   "source": [
    "import numpy as np\n",
    "value_one_array = np.ones(5)             # Creating a simple 5 by 1 array with 1 as its elements\n",
    "print('Our first vector A is: \\n\\n',value_one_array)\n",
    "random_array = np.random.randint(0, 5, 15)\n",
    "print('\\n\\nOur reference vector B which specifies the index positions is: \\n\\n',random_array)"
   ]
  },
  {
   "cell_type": "markdown",
   "metadata": {},
   "source": [
    "Here second vector B gives the index positions. For instance, index position 3 appears 4 times. Different index positions randomly repeats different number of times. Our job here is to find how many number of times each index position repeat and add that many 1 to corresponding index position element in vector A. To find out how many times each index position repeats we make use of <font color = blue>'np.bincount()'</font> function. Go to this link for more details on this function. \n",
    "\n",
    "https://numpy.org/doc/stable/reference/generated/numpy.bincount.html"
   ]
  },
  {
   "cell_type": "code",
   "execution_count": 10,
   "metadata": {},
   "outputs": [
    {
     "name": "stdout",
     "output_type": "stream",
     "text": [
      "Below we get the number of times each index position repeats\n",
      "\n",
      " [0 5 1 4 5]\n"
     ]
    }
   ],
   "source": [
    "# Using 'np.bincount()' function to find out the number of times each index position repeats.\n",
    "\n",
    "index_count = np.bincount(random_array, minlength = 5)\n",
    "\n",
    "print('Below we get the number of times each index position repeats\\n\\n', index_count)"
   ]
  },
  {
   "cell_type": "markdown",
   "metadata": {},
   "source": [
    "In reference vector B index position 0 appears 0 times as shown in array above. Similarly index position 1 appears 5 times and so on. Now we can directly add this 'index_count' array with our vector A. "
   ]
  },
  {
   "cell_type": "code",
   "execution_count": 12,
   "metadata": {},
   "outputs": [
    {
     "name": "stdout",
     "output_type": "stream",
     "text": [
      "Required final array is\n",
      "\n",
      " [1. 6. 2. 5. 6.]\n"
     ]
    }
   ],
   "source": [
    "print('Required final array is\\n\\n',value_one_array + index_count)"
   ]
  },
  {
   "cell_type": "markdown",
   "metadata": {},
   "source": [
    "### 65. How to accumulate elements of a vector (X) to an array (F) based on an index list (I)?"
   ]
  },
  {
   "cell_type": "markdown",
   "metadata": {},
   "source": [
    "<font color = blue> A simple and straight forward rephrasing of this question would be:   Find an array using 'np.bincount()' function with 'X' as array argument and 'I' as weights argument. </font>\n",
    "\n",
    "This is more or less a continuation of the question number 64."
   ]
  },
  {
   "cell_type": "markdown",
   "metadata": {},
   "source": [
    "<font color = red>WARNING!!! If you run the code block below the explanation below the code block will be useless as the values will change if you run this code block</font>"
   ]
  },
  {
   "cell_type": "code",
   "execution_count": 30,
   "metadata": {},
   "outputs": [
    {
     "name": "stdout",
     "output_type": "stream",
     "text": [
      "This is X vector\n",
      "\n",
      " [3 8 5 4 4 5 4 7 4 6]\n",
      "\n",
      "\n",
      "This is I index list\n",
      "\n",
      " [3 0 5 3 8 7 0 0 8 4]\n",
      "\n",
      "\n",
      " This is our required F array: \n",
      "\n",
      " [ 0.  0.  0.  3. 19. 12.  4.  0.  0.]\n"
     ]
    }
   ],
   "source": [
    "X_vector = np.random.randint(1, 10, 10)\n",
    "print('This is X vector\\n\\n', X_vector)\n",
    "I_index = np.random.randint(0, 10, 10)\n",
    "print('\\n\\nThis is I index list\\n\\n', I_index)\n",
    "\n",
    "F_array = np.bincount(X_vector, I_index)\n",
    "print('\\n\\n This is our required F array: \\n\\n', F_array)"
   ]
  },
  {
   "cell_type": "markdown",
   "metadata": {},
   "source": [
    "<font size = 1.2>Interpreting the result:   3 in vector X is accumulated 3 times as given by the index position three in F array. Value 8 is accumulated 0 times indicated in index position eight in F array. 4 is accumulated 19 times. And so on. </font>\n",
    "\n",
    "<font size = 1.5, color = green>This needs some explanation. We have vector X and index list I. We want to create a new array F where elements of X will be accumulated based on the reference provided by index list I. But the confusing part here is that the accumulated elements are placed at corresponding index position in new array F. For example, consider element 4 in X vector. You can see that 4 is repeated four times in X. Corresponding weight values of 4 in index list I are 3, 8, 0 and 8. Sum of these weights is 3 + 8 + 8 = 19. Clear?  Where does this value appear in new array F? Accumulated weight of value 4 will be placed at index position 4(Remember! count starts from 0 in python). Let us now see for element 3 in vector X. How many 3 are there in X?  Just one. What is the corresponding weight of value 3? It is 3. Where should this weight value go in the new array F? Index position three in F. So, at index position three we have value three. One more example with element 5 in vector X. How many times does it repeat? Twice. What are the corresponding weights of element 5?  5 and 7. Now accumulate(add) all the weights(5,7) of 5 we get 12. Where will this 12 go in new array F?  At index position 5. Can you see value 12 at index position 5 in above array? I guess you can. Perhaps this explanation must me enough to clear how \"np.bincount(x, weights)\" works. </font>\n",
    "\n"
   ]
  },
  {
   "cell_type": "code",
   "execution_count": null,
   "metadata": {},
   "outputs": [],
   "source": []
  }
 ],
 "metadata": {
  "kernelspec": {
   "display_name": "Python 3",
   "language": "python",
   "name": "python3"
  },
  "language_info": {
   "codemirror_mode": {
    "name": "ipython",
    "version": 3
   },
   "file_extension": ".py",
   "mimetype": "text/x-python",
   "name": "python",
   "nbconvert_exporter": "python",
   "pygments_lexer": "ipython3",
   "version": "3.7.0"
  }
 },
 "nbformat": 4,
 "nbformat_minor": 2
}
